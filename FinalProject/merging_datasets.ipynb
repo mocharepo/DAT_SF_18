{
 "cells": [
  {
   "cell_type": "code",
   "execution_count": 15,
   "metadata": {
    "collapsed": true
   },
   "outputs": [],
   "source": [
    "import pandas as pd"
   ]
  },
  {
   "cell_type": "code",
   "execution_count": 16,
   "metadata": {
    "collapsed": false
   },
   "outputs": [
    {
     "data": {
      "text/html": [
       "<div>\n",
       "<table border=\"1\" class=\"dataframe\">\n",
       "  <thead>\n",
       "    <tr style=\"text-align: right;\">\n",
       "      <th></th>\n",
       "      <th>Unnamed: 0</th>\n",
       "      <th>business_id</th>\n",
       "      <th>full_address</th>\n",
       "      <th>latitude</th>\n",
       "      <th>longitude</th>\n",
       "      <th>name</th>\n",
       "      <th>review_count</th>\n",
       "      <th>stars</th>\n",
       "    </tr>\n",
       "  </thead>\n",
       "  <tbody>\n",
       "    <tr>\n",
       "      <th>0</th>\n",
       "      <td>61178</td>\n",
       "      <td>qrgod2lrYnxHwNWC_YYTyQ</td>\n",
       "      <td>2620 Regatta Dr\\nSummerlin\\nLas Vegas, NV 89128</td>\n",
       "      <td>36.207485</td>\n",
       "      <td>-115.268203</td>\n",
       "      <td>Latin Fish</td>\n",
       "      <td>13</td>\n",
       "      <td>4.0</td>\n",
       "    </tr>\n",
       "    <tr>\n",
       "      <th>1</th>\n",
       "      <td>61175</td>\n",
       "      <td>AG3jFaQcABSFF-ry3l5t5g</td>\n",
       "      <td>Excalibur Hotel Casino\\n3850 Las Vegas Blvd So...</td>\n",
       "      <td>36.098909</td>\n",
       "      <td>-115.175557</td>\n",
       "      <td>The Buffet at Excalibur</td>\n",
       "      <td>8</td>\n",
       "      <td>3.0</td>\n",
       "    </tr>\n",
       "    <tr>\n",
       "      <th>2</th>\n",
       "      <td>61169</td>\n",
       "      <td>5jpV_QXxhfs8wHOXX3E_3w</td>\n",
       "      <td>7210 S Durango Dr\\nSouthwest\\nLas Vegas, NV 89113</td>\n",
       "      <td>36.057182</td>\n",
       "      <td>-115.278528</td>\n",
       "      <td>Checkers Rally's</td>\n",
       "      <td>12</td>\n",
       "      <td>3.0</td>\n",
       "    </tr>\n",
       "    <tr>\n",
       "      <th>3</th>\n",
       "      <td>61168</td>\n",
       "      <td>F14WDg0i6yZwXbflJ8ndaw</td>\n",
       "      <td>Caesars Palace Hotel &amp; Casino\\n3570 Las Vegas ...</td>\n",
       "      <td>36.117168</td>\n",
       "      <td>-115.177901</td>\n",
       "      <td>Di Fara Pizza</td>\n",
       "      <td>3</td>\n",
       "      <td>4.0</td>\n",
       "    </tr>\n",
       "    <tr>\n",
       "      <th>4</th>\n",
       "      <td>61166</td>\n",
       "      <td>BvbFnrg21OU2dULq3OlqcQ</td>\n",
       "      <td>5300 Spring Mountain Rd\\nSte 107\\nChinatown\\nL...</td>\n",
       "      <td>36.126671</td>\n",
       "      <td>-115.213592</td>\n",
       "      <td>The Jade Restaurant</td>\n",
       "      <td>7</td>\n",
       "      <td>3.5</td>\n",
       "    </tr>\n",
       "  </tbody>\n",
       "</table>\n",
       "</div>"
      ],
      "text/plain": [
       "   Unnamed: 0             business_id  \\\n",
       "0       61178  qrgod2lrYnxHwNWC_YYTyQ   \n",
       "1       61175  AG3jFaQcABSFF-ry3l5t5g   \n",
       "2       61169  5jpV_QXxhfs8wHOXX3E_3w   \n",
       "3       61168  F14WDg0i6yZwXbflJ8ndaw   \n",
       "4       61166  BvbFnrg21OU2dULq3OlqcQ   \n",
       "\n",
       "                                        full_address   latitude   longitude  \\\n",
       "0    2620 Regatta Dr\\nSummerlin\\nLas Vegas, NV 89128  36.207485 -115.268203   \n",
       "1  Excalibur Hotel Casino\\n3850 Las Vegas Blvd So...  36.098909 -115.175557   \n",
       "2  7210 S Durango Dr\\nSouthwest\\nLas Vegas, NV 89113  36.057182 -115.278528   \n",
       "3  Caesars Palace Hotel & Casino\\n3570 Las Vegas ...  36.117168 -115.177901   \n",
       "4  5300 Spring Mountain Rd\\nSte 107\\nChinatown\\nL...  36.126671 -115.213592   \n",
       "\n",
       "                      name  review_count  stars  \n",
       "0               Latin Fish            13    4.0  \n",
       "1  The Buffet at Excalibur             8    3.0  \n",
       "2         Checkers Rally's            12    3.0  \n",
       "3            Di Fara Pizza             3    4.0  \n",
       "4      The Jade Restaurant             7    3.5  "
      ]
     },
     "execution_count": 16,
     "metadata": {},
     "output_type": "execute_result"
    }
   ],
   "source": [
    "restaurants = pd.read_csv('restaurants_lasvegas.csv')\n",
    "reviews = pd.read_csv('reviews_lasvegas.csv')\n",
    "restaurants.head()"
   ]
  },
  {
   "cell_type": "code",
   "execution_count": 17,
   "metadata": {
    "collapsed": false
   },
   "outputs": [
    {
     "name": "stdout",
     "output_type": "stream",
     "text": [
      "<class 'pandas.core.frame.DataFrame'>\n",
      "Int64Index: 370195 entries, 0 to 370194\n",
      "Data columns (total 6 columns):\n",
      "Unnamed: 0     370195 non-null object\n",
      "business_id    370195 non-null object\n",
      "review_id      370194 non-null object\n",
      "stars          370194 non-null float64\n",
      "text           370193 non-null object\n",
      "user_id        370193 non-null object\n",
      "dtypes: float64(1), object(5)\n",
      "memory usage: 19.8+ MB\n"
     ]
    }
   ],
   "source": [
    "reviews.info()"
   ]
  },
  {
   "cell_type": "code",
   "execution_count": 18,
   "metadata": {
    "collapsed": false
   },
   "outputs": [
    {
     "data": {
      "text/html": [
       "<div>\n",
       "<table border=\"1\" class=\"dataframe\">\n",
       "  <thead>\n",
       "    <tr style=\"text-align: right;\">\n",
       "      <th></th>\n",
       "      <th>Unnamed: 0</th>\n",
       "      <th>business_id</th>\n",
       "      <th>review_id</th>\n",
       "      <th>stars</th>\n",
       "      <th>text</th>\n",
       "      <th>user_id</th>\n",
       "    </tr>\n",
       "  </thead>\n",
       "  <tbody>\n",
       "    <tr>\n",
       "      <th>0</th>\n",
       "      <td>132881</td>\n",
       "      <td>_SM8UKIwBNbmj1r629ipoQ</td>\n",
       "      <td>q63uf05O8LJjjPiv8YqMLg</td>\n",
       "      <td>4</td>\n",
       "      <td>I like Chianti, the outdoor seating area is ni...</td>\n",
       "      <td>RZwkUvViHYEh5Z65--cVZw</td>\n",
       "    </tr>\n",
       "    <tr>\n",
       "      <th>1</th>\n",
       "      <td>132882</td>\n",
       "      <td>_SM8UKIwBNbmj1r629ipoQ</td>\n",
       "      <td>FDTrDJbM-MSzVNsx2d5b7A</td>\n",
       "      <td>4</td>\n",
       "      <td>My wife and I went to Chianti for our annivers...</td>\n",
       "      <td>mW0l2ZhDeAAgjXPz_x2qRQ</td>\n",
       "    </tr>\n",
       "    <tr>\n",
       "      <th>2</th>\n",
       "      <td>132883</td>\n",
       "      <td>_SM8UKIwBNbmj1r629ipoQ</td>\n",
       "      <td>Z3MdiHyqJNV5Q6-SZtnCEg</td>\n",
       "      <td>5</td>\n",
       "      <td>We just enjoyed yet another wonderful dinner a...</td>\n",
       "      <td>SM2YJDFjrjx5LyVEprAtyw</td>\n",
       "    </tr>\n",
       "    <tr>\n",
       "      <th>3</th>\n",
       "      <td>132884</td>\n",
       "      <td>_SM8UKIwBNbmj1r629ipoQ</td>\n",
       "      <td>PL0YjA42hESdNG4GQgipGQ</td>\n",
       "      <td>4</td>\n",
       "      <td>We were in the Las Vegas / Summerlin area and ...</td>\n",
       "      <td>9fNSDDVlMCTA5b2xKL4ARw</td>\n",
       "    </tr>\n",
       "    <tr>\n",
       "      <th>4</th>\n",
       "      <td>132885</td>\n",
       "      <td>_SM8UKIwBNbmj1r629ipoQ</td>\n",
       "      <td>Jw2QVGxmSyPdZrWWqaJLZg</td>\n",
       "      <td>5</td>\n",
       "      <td>I live very close by to this place and am so g...</td>\n",
       "      <td>CioAnuJ5rF2dCpVZsNVCwA</td>\n",
       "    </tr>\n",
       "  </tbody>\n",
       "</table>\n",
       "</div>"
      ],
      "text/plain": [
       "  Unnamed: 0             business_id               review_id  stars  \\\n",
       "0     132881  _SM8UKIwBNbmj1r629ipoQ  q63uf05O8LJjjPiv8YqMLg      4   \n",
       "1     132882  _SM8UKIwBNbmj1r629ipoQ  FDTrDJbM-MSzVNsx2d5b7A      4   \n",
       "2     132883  _SM8UKIwBNbmj1r629ipoQ  Z3MdiHyqJNV5Q6-SZtnCEg      5   \n",
       "3     132884  _SM8UKIwBNbmj1r629ipoQ  PL0YjA42hESdNG4GQgipGQ      4   \n",
       "4     132885  _SM8UKIwBNbmj1r629ipoQ  Jw2QVGxmSyPdZrWWqaJLZg      5   \n",
       "\n",
       "                                                text                 user_id  \n",
       "0  I like Chianti, the outdoor seating area is ni...  RZwkUvViHYEh5Z65--cVZw  \n",
       "1  My wife and I went to Chianti for our annivers...  mW0l2ZhDeAAgjXPz_x2qRQ  \n",
       "2  We just enjoyed yet another wonderful dinner a...  SM2YJDFjrjx5LyVEprAtyw  \n",
       "3  We were in the Las Vegas / Summerlin area and ...  9fNSDDVlMCTA5b2xKL4ARw  \n",
       "4  I live very close by to this place and am so g...  CioAnuJ5rF2dCpVZsNVCwA  "
      ]
     },
     "execution_count": 18,
     "metadata": {},
     "output_type": "execute_result"
    }
   ],
   "source": [
    "reviews.head()"
   ]
  },
  {
   "cell_type": "code",
   "execution_count": 19,
   "metadata": {
    "collapsed": false
   },
   "outputs": [
    {
     "name": "stdout",
     "output_type": "stream",
     "text": [
      "<class 'pandas.core.frame.DataFrame'>\n",
      "Int64Index: 4119 entries, 0 to 4118\n",
      "Data columns (total 8 columns):\n",
      "Unnamed: 0      4119 non-null int64\n",
      "business_id     4119 non-null object\n",
      "full_address    4119 non-null object\n",
      "latitude        4119 non-null float64\n",
      "longitude       4119 non-null float64\n",
      "name            4119 non-null object\n",
      "review_count    4119 non-null float64\n",
      "stars           4119 non-null float64\n",
      "dtypes: float64(4), int64(1), object(3)\n",
      "memory usage: 289.6+ KB\n"
     ]
    }
   ],
   "source": [
    "restaurants.info()"
   ]
  },
  {
   "cell_type": "code",
   "execution_count": 20,
   "metadata": {
    "collapsed": true
   },
   "outputs": [],
   "source": [
    "data = pd.merge(reviews, restaurants, on='business_id', suffixes=('_reviews', '_restaurants'))"
   ]
  },
  {
   "cell_type": "code",
   "execution_count": 21,
   "metadata": {
    "collapsed": false
   },
   "outputs": [
    {
     "data": {
      "text/html": [
       "<div>\n",
       "<table border=\"1\" class=\"dataframe\">\n",
       "  <thead>\n",
       "    <tr style=\"text-align: right;\">\n",
       "      <th></th>\n",
       "      <th>Unnamed: 0_reviews</th>\n",
       "      <th>business_id</th>\n",
       "      <th>review_id</th>\n",
       "      <th>stars_reviews</th>\n",
       "      <th>text</th>\n",
       "      <th>user_id</th>\n",
       "      <th>Unnamed: 0_restaurants</th>\n",
       "      <th>full_address</th>\n",
       "      <th>latitude</th>\n",
       "      <th>longitude</th>\n",
       "      <th>name</th>\n",
       "      <th>review_count</th>\n",
       "      <th>stars_restaurants</th>\n",
       "    </tr>\n",
       "  </thead>\n",
       "  <tbody>\n",
       "    <tr>\n",
       "      <th>0</th>\n",
       "      <td>132881</td>\n",
       "      <td>_SM8UKIwBNbmj1r629ipoQ</td>\n",
       "      <td>q63uf05O8LJjjPiv8YqMLg</td>\n",
       "      <td>4</td>\n",
       "      <td>I like Chianti, the outdoor seating area is ni...</td>\n",
       "      <td>RZwkUvViHYEh5Z65--cVZw</td>\n",
       "      <td>6856</td>\n",
       "      <td>1916 Village Center Cir\\nSummerlin\\nLas Vegas,...</td>\n",
       "      <td>36.192414</td>\n",
       "      <td>-115.304396</td>\n",
       "      <td>Chianti Cafe</td>\n",
       "      <td>9</td>\n",
       "      <td>3.5</td>\n",
       "    </tr>\n",
       "    <tr>\n",
       "      <th>1</th>\n",
       "      <td>132882</td>\n",
       "      <td>_SM8UKIwBNbmj1r629ipoQ</td>\n",
       "      <td>FDTrDJbM-MSzVNsx2d5b7A</td>\n",
       "      <td>4</td>\n",
       "      <td>My wife and I went to Chianti for our annivers...</td>\n",
       "      <td>mW0l2ZhDeAAgjXPz_x2qRQ</td>\n",
       "      <td>6856</td>\n",
       "      <td>1916 Village Center Cir\\nSummerlin\\nLas Vegas,...</td>\n",
       "      <td>36.192414</td>\n",
       "      <td>-115.304396</td>\n",
       "      <td>Chianti Cafe</td>\n",
       "      <td>9</td>\n",
       "      <td>3.5</td>\n",
       "    </tr>\n",
       "    <tr>\n",
       "      <th>2</th>\n",
       "      <td>132883</td>\n",
       "      <td>_SM8UKIwBNbmj1r629ipoQ</td>\n",
       "      <td>Z3MdiHyqJNV5Q6-SZtnCEg</td>\n",
       "      <td>5</td>\n",
       "      <td>We just enjoyed yet another wonderful dinner a...</td>\n",
       "      <td>SM2YJDFjrjx5LyVEprAtyw</td>\n",
       "      <td>6856</td>\n",
       "      <td>1916 Village Center Cir\\nSummerlin\\nLas Vegas,...</td>\n",
       "      <td>36.192414</td>\n",
       "      <td>-115.304396</td>\n",
       "      <td>Chianti Cafe</td>\n",
       "      <td>9</td>\n",
       "      <td>3.5</td>\n",
       "    </tr>\n",
       "    <tr>\n",
       "      <th>3</th>\n",
       "      <td>132884</td>\n",
       "      <td>_SM8UKIwBNbmj1r629ipoQ</td>\n",
       "      <td>PL0YjA42hESdNG4GQgipGQ</td>\n",
       "      <td>4</td>\n",
       "      <td>We were in the Las Vegas / Summerlin area and ...</td>\n",
       "      <td>9fNSDDVlMCTA5b2xKL4ARw</td>\n",
       "      <td>6856</td>\n",
       "      <td>1916 Village Center Cir\\nSummerlin\\nLas Vegas,...</td>\n",
       "      <td>36.192414</td>\n",
       "      <td>-115.304396</td>\n",
       "      <td>Chianti Cafe</td>\n",
       "      <td>9</td>\n",
       "      <td>3.5</td>\n",
       "    </tr>\n",
       "    <tr>\n",
       "      <th>4</th>\n",
       "      <td>132885</td>\n",
       "      <td>_SM8UKIwBNbmj1r629ipoQ</td>\n",
       "      <td>Jw2QVGxmSyPdZrWWqaJLZg</td>\n",
       "      <td>5</td>\n",
       "      <td>I live very close by to this place and am so g...</td>\n",
       "      <td>CioAnuJ5rF2dCpVZsNVCwA</td>\n",
       "      <td>6856</td>\n",
       "      <td>1916 Village Center Cir\\nSummerlin\\nLas Vegas,...</td>\n",
       "      <td>36.192414</td>\n",
       "      <td>-115.304396</td>\n",
       "      <td>Chianti Cafe</td>\n",
       "      <td>9</td>\n",
       "      <td>3.5</td>\n",
       "    </tr>\n",
       "  </tbody>\n",
       "</table>\n",
       "</div>"
      ],
      "text/plain": [
       "  Unnamed: 0_reviews             business_id               review_id  \\\n",
       "0             132881  _SM8UKIwBNbmj1r629ipoQ  q63uf05O8LJjjPiv8YqMLg   \n",
       "1             132882  _SM8UKIwBNbmj1r629ipoQ  FDTrDJbM-MSzVNsx2d5b7A   \n",
       "2             132883  _SM8UKIwBNbmj1r629ipoQ  Z3MdiHyqJNV5Q6-SZtnCEg   \n",
       "3             132884  _SM8UKIwBNbmj1r629ipoQ  PL0YjA42hESdNG4GQgipGQ   \n",
       "4             132885  _SM8UKIwBNbmj1r629ipoQ  Jw2QVGxmSyPdZrWWqaJLZg   \n",
       "\n",
       "   stars_reviews                                               text  \\\n",
       "0              4  I like Chianti, the outdoor seating area is ni...   \n",
       "1              4  My wife and I went to Chianti for our annivers...   \n",
       "2              5  We just enjoyed yet another wonderful dinner a...   \n",
       "3              4  We were in the Las Vegas / Summerlin area and ...   \n",
       "4              5  I live very close by to this place and am so g...   \n",
       "\n",
       "                  user_id  Unnamed: 0_restaurants  \\\n",
       "0  RZwkUvViHYEh5Z65--cVZw                    6856   \n",
       "1  mW0l2ZhDeAAgjXPz_x2qRQ                    6856   \n",
       "2  SM2YJDFjrjx5LyVEprAtyw                    6856   \n",
       "3  9fNSDDVlMCTA5b2xKL4ARw                    6856   \n",
       "4  CioAnuJ5rF2dCpVZsNVCwA                    6856   \n",
       "\n",
       "                                        full_address   latitude   longitude  \\\n",
       "0  1916 Village Center Cir\\nSummerlin\\nLas Vegas,...  36.192414 -115.304396   \n",
       "1  1916 Village Center Cir\\nSummerlin\\nLas Vegas,...  36.192414 -115.304396   \n",
       "2  1916 Village Center Cir\\nSummerlin\\nLas Vegas,...  36.192414 -115.304396   \n",
       "3  1916 Village Center Cir\\nSummerlin\\nLas Vegas,...  36.192414 -115.304396   \n",
       "4  1916 Village Center Cir\\nSummerlin\\nLas Vegas,...  36.192414 -115.304396   \n",
       "\n",
       "           name  review_count  stars_restaurants  \n",
       "0  Chianti Cafe             9                3.5  \n",
       "1  Chianti Cafe             9                3.5  \n",
       "2  Chianti Cafe             9                3.5  \n",
       "3  Chianti Cafe             9                3.5  \n",
       "4  Chianti Cafe             9                3.5  "
      ]
     },
     "execution_count": 21,
     "metadata": {},
     "output_type": "execute_result"
    }
   ],
   "source": [
    "data.head()"
   ]
  },
  {
   "cell_type": "code",
   "execution_count": 22,
   "metadata": {
    "collapsed": false
   },
   "outputs": [
    {
     "name": "stdout",
     "output_type": "stream",
     "text": [
      "<class 'pandas.core.frame.DataFrame'>\n",
      "Int64Index: 370194 entries, 0 to 370193\n",
      "Data columns (total 13 columns):\n",
      "Unnamed: 0_reviews        370194 non-null object\n",
      "business_id               370194 non-null object\n",
      "review_id                 370194 non-null object\n",
      "stars_reviews             370194 non-null float64\n",
      "text                      370193 non-null object\n",
      "user_id                   370193 non-null object\n",
      "Unnamed: 0_restaurants    370194 non-null int64\n",
      "full_address              370194 non-null object\n",
      "latitude                  370194 non-null float64\n",
      "longitude                 370194 non-null float64\n",
      "name                      370194 non-null object\n",
      "review_count              370194 non-null float64\n",
      "stars_restaurants         370194 non-null float64\n",
      "dtypes: float64(5), int64(1), object(7)\n",
      "memory usage: 39.5+ MB\n"
     ]
    }
   ],
   "source": [
    "data.info()"
   ]
  },
  {
   "cell_type": "code",
   "execution_count": 23,
   "metadata": {
    "collapsed": false
   },
   "outputs": [],
   "source": [
    "data.drop(['Unnamed: 0_reviews', 'Unnamed: 0_restaurants'], axis=1, inplace=True)"
   ]
  },
  {
   "cell_type": "code",
   "execution_count": 24,
   "metadata": {
    "collapsed": false
   },
   "outputs": [
    {
     "name": "stdout",
     "output_type": "stream",
     "text": [
      "<class 'pandas.core.frame.DataFrame'>\n",
      "Int64Index: 370194 entries, 0 to 370193\n",
      "Data columns (total 11 columns):\n",
      "business_id          370194 non-null object\n",
      "review_id            370194 non-null object\n",
      "stars_reviews        370194 non-null float64\n",
      "text                 370193 non-null object\n",
      "user_id              370193 non-null object\n",
      "full_address         370194 non-null object\n",
      "latitude             370194 non-null float64\n",
      "longitude            370194 non-null float64\n",
      "name                 370194 non-null object\n",
      "review_count         370194 non-null float64\n",
      "stars_restaurants    370194 non-null float64\n",
      "dtypes: float64(5), object(6)\n",
      "memory usage: 33.9+ MB\n"
     ]
    }
   ],
   "source": [
    "data.info()"
   ]
  },
  {
   "cell_type": "code",
   "execution_count": 25,
   "metadata": {
    "collapsed": false
   },
   "outputs": [],
   "source": [
    "import matplotlib.pyplot as plt\n",
    "%matplotlib inline\n",
    "import seaborn as sns #only doing this to make things pretty\n",
    "sns.set_style('darkgrid')"
   ]
  },
  {
   "cell_type": "code",
   "execution_count": 26,
   "metadata": {
    "collapsed": false
   },
   "outputs": [
    {
     "data": {
      "text/plain": [
       "<matplotlib.axes._subplots.AxesSubplot at 0x145da7a90>"
      ]
     },
     "execution_count": 26,
     "metadata": {},
     "output_type": "execute_result"
    },
    {
     "data": {
      "image/png": "[encoded data removed]",
      "text/plain": [
       "<matplotlib.figure.Figure at 0x107e2f150>"
      ]
     },
     "metadata": {},
     "output_type": "display_data"
    }
   ],
   "source": [
    "data.user_id.value_counts().hist()"
   ]
  },
  {
   "cell_type": "code",
   "execution_count": 27,
   "metadata": {
    "collapsed": false
   },
   "outputs": [
    {
     "data": {
      "text/html": [
       "<div>\n",
       "<table border=\"1\" class=\"dataframe\">\n",
       "  <thead>\n",
       "    <tr style=\"text-align: right;\">\n",
       "      <th></th>\n",
       "      <th>business_id</th>\n",
       "      <th>review_id</th>\n",
       "      <th>stars_reviews</th>\n",
       "      <th>text</th>\n",
       "      <th>user_id</th>\n",
       "      <th>full_address</th>\n",
       "      <th>latitude</th>\n",
       "      <th>longitude</th>\n",
       "      <th>name</th>\n",
       "      <th>review_count</th>\n",
       "      <th>stars_restaurants</th>\n",
       "    </tr>\n",
       "  </thead>\n",
       "  <tbody>\n",
       "    <tr>\n",
       "      <th>230086</th>\n",
       "      <td>Lp-A-JNRUUH72uou5-pMtQ</td>\n",
       "      <td>8Zy14UfuCv3UQVkJf-ycxw</td>\n",
       "      <td>5</td>\n",
       "      <td>Best Creole/Cajun food in Nevada! Order the  B...</td>\n",
       "      <td>NaN</td>\n",
       "      <td>241 W Charleston Blvd\\nSte 101\\nDowntown\\nLas ...</td>\n",
       "      <td>36.15867</td>\n",
       "      <td>-115.158302</td>\n",
       "      <td>Lola's</td>\n",
       "      <td>498</td>\n",
       "      <td>4</td>\n",
       "    </tr>\n",
       "  </tbody>\n",
       "</table>\n",
       "</div>"
      ],
      "text/plain": [
       "                   business_id               review_id  stars_reviews  \\\n",
       "230086  Lp-A-JNRUUH72uou5-pMtQ  8Zy14UfuCv3UQVkJf-ycxw              5   \n",
       "\n",
       "                                                     text user_id  \\\n",
       "230086  Best Creole/Cajun food in Nevada! Order the  B...     NaN   \n",
       "\n",
       "                                             full_address  latitude  \\\n",
       "230086  241 W Charleston Blvd\\nSte 101\\nDowntown\\nLas ...  36.15867   \n",
       "\n",
       "         longitude    name  review_count  stars_restaurants  \n",
       "230086 -115.158302  Lola's           498                  4  "
      ]
     },
     "execution_count": 27,
     "metadata": {},
     "output_type": "execute_result"
    }
   ],
   "source": [
    "data[data.user_id.isnull()]"
   ]
  },
  {
   "cell_type": "code",
   "execution_count": 28,
   "metadata": {
    "collapsed": false
   },
   "outputs": [
    {
     "name": "stdout",
     "output_type": "stream",
     "text": [
      "<class 'pandas.core.frame.DataFrame'>\n",
      "Int64Index: 370193 entries, 0 to 370193\n",
      "Data columns (total 11 columns):\n",
      "business_id          370193 non-null object\n",
      "review_id            370193 non-null object\n",
      "stars_reviews        370193 non-null float64\n",
      "text                 370193 non-null object\n",
      "user_id              370192 non-null object\n",
      "full_address         370193 non-null object\n",
      "latitude             370193 non-null float64\n",
      "longitude            370193 non-null float64\n",
      "name                 370193 non-null object\n",
      "review_count         370193 non-null float64\n",
      "stars_restaurants    370193 non-null float64\n",
      "dtypes: float64(5), object(6)\n",
      "memory usage: 33.9+ MB\n"
     ]
    }
   ],
   "source": [
    "data.dropna(subset=['text'], inplace=True)\n",
    "data.info()"
   ]
  },
  {
   "cell_type": "code",
   "execution_count": 29,
   "metadata": {
    "collapsed": true
   },
   "outputs": [],
   "source": [
    "data.to_csv('yelp_data.csv', index=False)"
   ]
  },
  {
   "cell_type": "code",
   "execution_count": null,
   "metadata": {
    "collapsed": true
   },
   "outputs": [],
   "source": []
  }
 ],
 "metadata": {
  "kernelspec": {
   "display_name": "Python 2",
   "language": "python",
   "name": "python2"
  },
  "language_info": {
   "codemirror_mode": {
    "name": "ipython",
    "version": 2
   },
   "file_extension": ".py",
   "mimetype": "text/x-python",
   "name": "python",
   "nbconvert_exporter": "python",
   "pygments_lexer": "ipython2",
   "version": "2.7.10"
  }
 },
 "nbformat": 4,
 "nbformat_minor": 0
}
