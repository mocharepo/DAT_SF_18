{
 "cells": [
  {
   "cell_type": "code",
   "execution_count": 1,
   "metadata": {
    "collapsed": true
   },
   "outputs": [],
   "source": [
    "import pandas as pd"
   ]
  },
  {
   "cell_type": "code",
   "execution_count": 6,
   "metadata": {
    "collapsed": false
   },
   "outputs": [],
   "source": [
    "# from bokeh.plotting import figure, output_notebook,show\n",
    "# output_notebook()"
   ]
  },
  {
   "cell_type": "code",
   "execution_count": 2,
   "metadata": {
    "collapsed": true
   },
   "outputs": [],
   "source": [
    "data = pd.read_csv('yelp_data.csv')"
   ]
  },
  {
   "cell_type": "code",
   "execution_count": 8,
   "metadata": {
    "collapsed": false
   },
   "outputs": [
    {
     "name": "stdout",
     "output_type": "stream",
     "text": [
      "<class 'pandas.core.frame.DataFrame'>\n",
      "Int64Index: 370193 entries, 0 to 370192\n",
      "Data columns (total 11 columns):\n",
      "business_id          370193 non-null object\n",
      "review_id            370193 non-null object\n",
      "stars_reviews        370193 non-null float64\n",
      "text                 370193 non-null object\n",
      "user_id              370192 non-null object\n",
      "full_address         370193 non-null object\n",
      "latitude             370193 non-null float64\n",
      "longitude            370193 non-null float64\n",
      "name                 370193 non-null object\n",
      "review_count         370193 non-null float64\n",
      "stars_restaurants    370193 non-null float64\n",
      "dtypes: float64(5), object(6)\n",
      "memory usage: 33.9+ MB\n"
     ]
    }
   ],
   "source": [
    "data.info()"
   ]
  },
  {
   "cell_type": "code",
   "execution_count": 9,
   "metadata": {
    "collapsed": false
   },
   "outputs": [],
   "source": [
    "# data.head(20)"
   ]
  },
  {
   "cell_type": "code",
   "execution_count": 10,
   "metadata": {
    "collapsed": false
   },
   "outputs": [],
   "source": [
    "# data.text[:5]"
   ]
  },
  {
   "cell_type": "code",
   "execution_count": 11,
   "metadata": {
    "collapsed": true
   },
   "outputs": [],
   "source": [
    "# from sklearn.cross_validation import train_test_split"
   ]
  },
  {
   "cell_type": "code",
   "execution_count": 12,
   "metadata": {
    "collapsed": true
   },
   "outputs": [],
   "source": [
    "# sample_set = data.text[:10]"
   ]
  },
  {
   "cell_type": "code",
   "execution_count": 3,
   "metadata": {
    "collapsed": false
   },
   "outputs": [],
   "source": [
    "import nltk\n",
    "# nltk.download()"
   ]
  },
  {
   "cell_type": "code",
   "execution_count": 14,
   "metadata": {
    "collapsed": false
   },
   "outputs": [],
   "source": [
    "# from nltk.sentiment import util\n",
    "# util.demo_vader_instance(sample_set[1])"
   ]
  },
  {
   "cell_type": "code",
   "execution_count": 15,
   "metadata": {
    "collapsed": false
   },
   "outputs": [],
   "source": [
    "# from nltk import word_tokenize\n",
    "# tokens = word_tokenize(data.text[7].lower())\n",
    "# tokens"
   ]
  },
  {
   "cell_type": "code",
   "execution_count": 16,
   "metadata": {
    "collapsed": false
   },
   "outputs": [],
   "source": [
    "# pos_tags = nltk.pos_tag(tokens)\n",
    "# pos_tags"
   ]
  },
  {
   "cell_type": "code",
   "execution_count": 17,
   "metadata": {
    "collapsed": false
   },
   "outputs": [],
   "source": [
    "# tags = []\n",
    "# for k,v in pos_tags:\n",
    "#     tags.append(v)\n",
    "\n",
    "# print set(tags)"
   ]
  },
  {
   "cell_type": "code",
   "execution_count": 18,
   "metadata": {
    "collapsed": true
   },
   "outputs": [],
   "source": [
    "# from nltk import tokenize"
   ]
  },
  {
   "cell_type": "code",
   "execution_count": 19,
   "metadata": {
    "collapsed": true
   },
   "outputs": [],
   "source": [
    "# lines_list = tokenize.sent_tokenize(data.text[7])"
   ]
  },
  {
   "cell_type": "code",
   "execution_count": 20,
   "metadata": {
    "collapsed": false
   },
   "outputs": [],
   "source": [
    "# from nltk.sentiment.vader import SentimentIntensityAnalyzer\n",
    "# sid = SentimentIntensityAnalyzer()"
   ]
  },
  {
   "cell_type": "code",
   "execution_count": 21,
   "metadata": {
    "collapsed": false
   },
   "outputs": [],
   "source": [
    "# len(data)"
   ]
  },
  {
   "cell_type": "code",
   "execution_count": 22,
   "metadata": {
    "collapsed": true
   },
   "outputs": [],
   "source": [
    "# data_s = data"
   ]
  },
  {
   "cell_type": "code",
   "execution_count": 23,
   "metadata": {
    "collapsed": false
   },
   "outputs": [],
   "source": [
    "# data_s.reset_index(inplace=True, drop=True)"
   ]
  },
  {
   "cell_type": "code",
   "execution_count": 24,
   "metadata": {
    "collapsed": false
   },
   "outputs": [],
   "source": [
    "# data_s.head()"
   ]
  },
  {
   "cell_type": "code",
   "execution_count": 17,
   "metadata": {
    "collapsed": false
   },
   "outputs": [
    {
     "data": {
      "text/plain": [
       "{'compound': -0.5423, 'neg': 0.538, 'neu': 0.462, 'pos': 0.0}"
      ]
     },
     "execution_count": 17,
     "metadata": {},
     "output_type": "execute_result"
    }
   ],
   "source": [
    "from vaderSentiment.vaderSentiment import sentiment\n",
    "\n",
    "s = 'The book is bad.'\n",
    "vs = sentiment(s)\n",
    "vs\n",
    "\n",
    "\n",
    "\n",
    "# negative = []\n",
    "# positive = []\n",
    "# neutral = []\n",
    "# compound = []\n",
    "\n",
    "# for i in range(len(data)):\n",
    "#     inpu = data.text[i]\n",
    "#     vs = sentiment(inpu) \n",
    "#     negative.append(vs['neg'])\n",
    "#     positive.append(vs['pos'])\n",
    "#     neutral.append(vs['neu'])\n",
    "#     compound.append(vs['compound'])\n",
    "    \n",
    "# senti = pd.DataFrame({'negative': negative, 'positive': positive, 'neutral': neutral, 'compound': compound})\n",
    "# senti.head()"
   ]
  },
  {
   "cell_type": "code",
   "execution_count": 26,
   "metadata": {
    "collapsed": true
   },
   "outputs": [],
   "source": [
    "senti.info()"
   ]
  },
  {
   "cell_type": "code",
   "execution_count": 27,
   "metadata": {
    "collapsed": false
   },
   "outputs": [],
   "source": [
    "# type(vs['compound'])"
   ]
  },
  {
   "cell_type": "code",
   "execution_count": 28,
   "metadata": {
    "collapsed": false
   },
   "outputs": [],
   "source": [
    "# senti.head()"
   ]
  },
  {
   "cell_type": "code",
   "execution_count": 29,
   "metadata": {
    "collapsed": false
   },
   "outputs": [],
   "source": [
    "# senti.describe().T"
   ]
  },
  {
   "cell_type": "code",
   "execution_count": 30,
   "metadata": {
    "collapsed": false
   },
   "outputs": [],
   "source": [
    "# senti['compound']"
   ]
  },
  {
   "cell_type": "code",
   "execution_count": 31,
   "metadata": {
    "collapsed": false
   },
   "outputs": [],
   "source": [
    "# type(senti['compound'])"
   ]
  },
  {
   "cell_type": "code",
   "execution_count": 32,
   "metadata": {
    "collapsed": true
   },
   "outputs": [],
   "source": [
    "data['compound'] = senti['compound']"
   ]
  },
  {
   "cell_type": "code",
   "execution_count": 33,
   "metadata": {
    "collapsed": false
   },
   "outputs": [],
   "source": [
    "# data_s.drop('compound', axis=1, inplace=True)"
   ]
  },
  {
   "cell_type": "code",
   "execution_count": 34,
   "metadata": {
    "collapsed": true
   },
   "outputs": [],
   "source": [
    "data['negative'] = senti.negative"
   ]
  },
  {
   "cell_type": "code",
   "execution_count": 35,
   "metadata": {
    "collapsed": true
   },
   "outputs": [],
   "source": [
    "data['positive'] = senti.positive"
   ]
  },
  {
   "cell_type": "code",
   "execution_count": 36,
   "metadata": {
    "collapsed": true
   },
   "outputs": [],
   "source": [
    "data['neutral'] = senti.neutral"
   ]
  },
  {
   "cell_type": "code",
   "execution_count": 37,
   "metadata": {
    "collapsed": false
   },
   "outputs": [
    {
     "data": {
      "text/plain": [
       "Index([u'business_id', u'review_id', u'stars_reviews', u'text', u'user_id',\n",
       "       u'full_address', u'latitude', u'longitude', u'name', u'review_count',\n",
       "       u'stars_restaurants', u'compound', u'negative', u'positive',\n",
       "       u'neutral'],\n",
       "      dtype='object')"
      ]
     },
     "execution_count": 37,
     "metadata": {},
     "output_type": "execute_result"
    }
   ],
   "source": [
    "data.columns"
   ]
  },
  {
   "cell_type": "code",
   "execution_count": 38,
   "metadata": {
    "collapsed": false
   },
   "outputs": [],
   "source": [
    "# data_s.head()"
   ]
  },
  {
   "cell_type": "code",
   "execution_count": 39,
   "metadata": {
    "collapsed": true
   },
   "outputs": [],
   "source": [
    "cols = ['business_id', 'review_id', 'stars_reviews', 'latitude', 'longitude', 'review_count', 'stars_restaurants', \n",
    "        'compound', 'negative', 'positive', 'neutral']\n",
    "train_raw = data[cols]"
   ]
  },
  {
   "cell_type": "code",
   "execution_count": 40,
   "metadata": {
    "collapsed": false
   },
   "outputs": [
    {
     "data": {
      "text/html": [
       "<div>\n",
       "<table border=\"1\" class=\"dataframe\">\n",
       "  <thead>\n",
       "    <tr style=\"text-align: right;\">\n",
       "      <th></th>\n",
       "      <th>business_id</th>\n",
       "      <th>review_id</th>\n",
       "      <th>stars_reviews</th>\n",
       "      <th>latitude</th>\n",
       "      <th>longitude</th>\n",
       "      <th>review_count</th>\n",
       "      <th>stars_restaurants</th>\n",
       "      <th>compound</th>\n",
       "      <th>negative</th>\n",
       "      <th>positive</th>\n",
       "      <th>neutral</th>\n",
       "    </tr>\n",
       "  </thead>\n",
       "  <tbody>\n",
       "    <tr>\n",
       "      <th>0</th>\n",
       "      <td>_SM8UKIwBNbmj1r629ipoQ</td>\n",
       "      <td>q63uf05O8LJjjPiv8YqMLg</td>\n",
       "      <td>4</td>\n",
       "      <td>36.192414</td>\n",
       "      <td>-115.304396</td>\n",
       "      <td>9</td>\n",
       "      <td>3.5</td>\n",
       "      <td>0.9644</td>\n",
       "      <td>0.017</td>\n",
       "      <td>0.197</td>\n",
       "      <td>0.786</td>\n",
       "    </tr>\n",
       "    <tr>\n",
       "      <th>1</th>\n",
       "      <td>_SM8UKIwBNbmj1r629ipoQ</td>\n",
       "      <td>FDTrDJbM-MSzVNsx2d5b7A</td>\n",
       "      <td>4</td>\n",
       "      <td>36.192414</td>\n",
       "      <td>-115.304396</td>\n",
       "      <td>9</td>\n",
       "      <td>3.5</td>\n",
       "      <td>0.9699</td>\n",
       "      <td>0.018</td>\n",
       "      <td>0.129</td>\n",
       "      <td>0.853</td>\n",
       "    </tr>\n",
       "    <tr>\n",
       "      <th>2</th>\n",
       "      <td>_SM8UKIwBNbmj1r629ipoQ</td>\n",
       "      <td>Z3MdiHyqJNV5Q6-SZtnCEg</td>\n",
       "      <td>5</td>\n",
       "      <td>36.192414</td>\n",
       "      <td>-115.304396</td>\n",
       "      <td>9</td>\n",
       "      <td>3.5</td>\n",
       "      <td>0.9875</td>\n",
       "      <td>0.016</td>\n",
       "      <td>0.307</td>\n",
       "      <td>0.677</td>\n",
       "    </tr>\n",
       "    <tr>\n",
       "      <th>3</th>\n",
       "      <td>_SM8UKIwBNbmj1r629ipoQ</td>\n",
       "      <td>PL0YjA42hESdNG4GQgipGQ</td>\n",
       "      <td>4</td>\n",
       "      <td>36.192414</td>\n",
       "      <td>-115.304396</td>\n",
       "      <td>9</td>\n",
       "      <td>3.5</td>\n",
       "      <td>0.9928</td>\n",
       "      <td>0.000</td>\n",
       "      <td>0.248</td>\n",
       "      <td>0.752</td>\n",
       "    </tr>\n",
       "    <tr>\n",
       "      <th>4</th>\n",
       "      <td>_SM8UKIwBNbmj1r629ipoQ</td>\n",
       "      <td>Jw2QVGxmSyPdZrWWqaJLZg</td>\n",
       "      <td>5</td>\n",
       "      <td>36.192414</td>\n",
       "      <td>-115.304396</td>\n",
       "      <td>9</td>\n",
       "      <td>3.5</td>\n",
       "      <td>0.9807</td>\n",
       "      <td>0.044</td>\n",
       "      <td>0.252</td>\n",
       "      <td>0.705</td>\n",
       "    </tr>\n",
       "  </tbody>\n",
       "</table>\n",
       "</div>"
      ],
      "text/plain": [
       "              business_id               review_id  stars_reviews   latitude  \\\n",
       "0  _SM8UKIwBNbmj1r629ipoQ  q63uf05O8LJjjPiv8YqMLg              4  36.192414   \n",
       "1  _SM8UKIwBNbmj1r629ipoQ  FDTrDJbM-MSzVNsx2d5b7A              4  36.192414   \n",
       "2  _SM8UKIwBNbmj1r629ipoQ  Z3MdiHyqJNV5Q6-SZtnCEg              5  36.192414   \n",
       "3  _SM8UKIwBNbmj1r629ipoQ  PL0YjA42hESdNG4GQgipGQ              4  36.192414   \n",
       "4  _SM8UKIwBNbmj1r629ipoQ  Jw2QVGxmSyPdZrWWqaJLZg              5  36.192414   \n",
       "\n",
       "    longitude  review_count  stars_restaurants  compound  negative  positive  \\\n",
       "0 -115.304396             9                3.5    0.9644     0.017     0.197   \n",
       "1 -115.304396             9                3.5    0.9699     0.018     0.129   \n",
       "2 -115.304396             9                3.5    0.9875     0.016     0.307   \n",
       "3 -115.304396             9                3.5    0.9928     0.000     0.248   \n",
       "4 -115.304396             9                3.5    0.9807     0.044     0.252   \n",
       "\n",
       "   neutral  \n",
       "0    0.786  \n",
       "1    0.853  \n",
       "2    0.677  \n",
       "3    0.752  \n",
       "4    0.705  "
      ]
     },
     "execution_count": 40,
     "metadata": {},
     "output_type": "execute_result"
    }
   ],
   "source": [
    "train_raw.head()"
   ]
  },
  {
   "cell_type": "code",
   "execution_count": 41,
   "metadata": {
    "collapsed": false
   },
   "outputs": [],
   "source": [
    "# train_raw.hist()"
   ]
  },
  {
   "cell_type": "code",
   "execution_count": 42,
   "metadata": {
    "collapsed": false
   },
   "outputs": [],
   "source": [
    "train_raw.to_csv('sentiment_training.csv', index=False)"
   ]
  },
  {
   "cell_type": "code",
   "execution_count": null,
   "metadata": {
    "collapsed": true
   },
   "outputs": [],
   "source": []
  }
 ],
 "metadata": {
  "kernelspec": {
   "display_name": "Python 2",
   "language": "python",
   "name": "python2"
  },
  "language_info": {
   "codemirror_mode": {
    "name": "ipython",
    "version": 2
   },
   "file_extension": ".py",
   "mimetype": "text/x-python",
   "name": "python",
   "nbconvert_exporter": "python",
   "pygments_lexer": "ipython2",
   "version": "2.7.10"
  }
 },
 "nbformat": 4,
 "nbformat_minor": 0
}
