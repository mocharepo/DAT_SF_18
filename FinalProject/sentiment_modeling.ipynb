{
 "cells": [
  {
   "cell_type": "code",
   "execution_count": 1,
   "metadata": {
    "collapsed": true
   },
   "outputs": [],
   "source": [
    "import pandas as pd"
   ]
  },
  {
   "cell_type": "code",
   "execution_count": 2,
   "metadata": {
    "collapsed": false
   },
   "outputs": [],
   "source": [
    "# from bokeh.plotting import figure, output_notebook,show\n",
    "# output_notebook()"
   ]
  },
  {
   "cell_type": "code",
   "execution_count": 3,
   "metadata": {
    "collapsed": false
   },
   "outputs": [],
   "source": [
    "# import matplotlib.pyplot as plt\n",
    "# %matplotlib inline\n",
    "# import seaborn as sns #only doing this to make things pretty\n",
    "# sns.set_style('darkgrid')"
   ]
  },
  {
   "cell_type": "code",
   "execution_count": 2,
   "metadata": {
    "collapsed": true
   },
   "outputs": [],
   "source": [
    "training_data = pd.read_csv('sentiment_training.csv')"
   ]
  },
  {
   "cell_type": "code",
   "execution_count": 5,
   "metadata": {
    "collapsed": false
   },
   "outputs": [
    {
     "data": {
      "text/html": [
       "<div>\n",
       "<table border=\"1\" class=\"dataframe\">\n",
       "  <thead>\n",
       "    <tr style=\"text-align: right;\">\n",
       "      <th></th>\n",
       "      <th>business_id</th>\n",
       "      <th>review_id</th>\n",
       "      <th>stars_reviews</th>\n",
       "      <th>latitude</th>\n",
       "      <th>longitude</th>\n",
       "      <th>review_count</th>\n",
       "      <th>stars_restaurants</th>\n",
       "      <th>compound</th>\n",
       "      <th>negative</th>\n",
       "      <th>positive</th>\n",
       "      <th>neutral</th>\n",
       "    </tr>\n",
       "  </thead>\n",
       "  <tbody>\n",
       "    <tr>\n",
       "      <th>0</th>\n",
       "      <td>39LBSx2xXIWy1PzSmX0gVg</td>\n",
       "      <td>IyfTIl2mqTLwgbvpL9ZJbg</td>\n",
       "      <td>4</td>\n",
       "      <td>36.053367</td>\n",
       "      <td>-115.279381</td>\n",
       "      <td>61</td>\n",
       "      <td>4.0</td>\n",
       "      <td>0.9900</td>\n",
       "      <td>0.041</td>\n",
       "      <td>0.131</td>\n",
       "      <td>0.828</td>\n",
       "    </tr>\n",
       "    <tr>\n",
       "      <th>1</th>\n",
       "      <td>PBkdlqw53cc2AZsfFD8AEQ</td>\n",
       "      <td>CniBYFBLMzsWw6g6U-XhIQ</td>\n",
       "      <td>2</td>\n",
       "      <td>36.069973</td>\n",
       "      <td>-115.174840</td>\n",
       "      <td>212</td>\n",
       "      <td>4.0</td>\n",
       "      <td>-0.1511</td>\n",
       "      <td>0.074</td>\n",
       "      <td>0.057</td>\n",
       "      <td>0.870</td>\n",
       "    </tr>\n",
       "    <tr>\n",
       "      <th>2</th>\n",
       "      <td>aGbjLWzcrnEx2ZmMCFm3EA</td>\n",
       "      <td>3dr_zdRIgccnC05zKGGsjg</td>\n",
       "      <td>4</td>\n",
       "      <td>36.110108</td>\n",
       "      <td>-115.172338</td>\n",
       "      <td>2537</td>\n",
       "      <td>4.0</td>\n",
       "      <td>0.9544</td>\n",
       "      <td>0.013</td>\n",
       "      <td>0.159</td>\n",
       "      <td>0.828</td>\n",
       "    </tr>\n",
       "    <tr>\n",
       "      <th>3</th>\n",
       "      <td>2e2e7WgqU1BnpxmQL5jbfw</td>\n",
       "      <td>zG_0thPCEfqwINHJmTb5TQ</td>\n",
       "      <td>5</td>\n",
       "      <td>36.110266</td>\n",
       "      <td>-115.170553</td>\n",
       "      <td>3984</td>\n",
       "      <td>4.5</td>\n",
       "      <td>0.7778</td>\n",
       "      <td>0.069</td>\n",
       "      <td>0.242</td>\n",
       "      <td>0.689</td>\n",
       "    </tr>\n",
       "    <tr>\n",
       "      <th>4</th>\n",
       "      <td>AumuGuTg3HqvtwbLPi-ZCg</td>\n",
       "      <td>e5iyrd83W9Q7KxX93gR0mw</td>\n",
       "      <td>5</td>\n",
       "      <td>36.118697</td>\n",
       "      <td>-115.154270</td>\n",
       "      <td>294</td>\n",
       "      <td>4.0</td>\n",
       "      <td>0.9406</td>\n",
       "      <td>0.024</td>\n",
       "      <td>0.152</td>\n",
       "      <td>0.824</td>\n",
       "    </tr>\n",
       "  </tbody>\n",
       "</table>\n",
       "</div>"
      ],
      "text/plain": [
       "              business_id               review_id  stars_reviews   latitude  \\\n",
       "0  39LBSx2xXIWy1PzSmX0gVg  IyfTIl2mqTLwgbvpL9ZJbg              4  36.053367   \n",
       "1  PBkdlqw53cc2AZsfFD8AEQ  CniBYFBLMzsWw6g6U-XhIQ              2  36.069973   \n",
       "2  aGbjLWzcrnEx2ZmMCFm3EA  3dr_zdRIgccnC05zKGGsjg              4  36.110108   \n",
       "3  2e2e7WgqU1BnpxmQL5jbfw  zG_0thPCEfqwINHJmTb5TQ              5  36.110266   \n",
       "4  AumuGuTg3HqvtwbLPi-ZCg  e5iyrd83W9Q7KxX93gR0mw              5  36.118697   \n",
       "\n",
       "    longitude  review_count  stars_restaurants  compound  negative  positive  \\\n",
       "0 -115.279381            61                4.0    0.9900     0.041     0.131   \n",
       "1 -115.174840           212                4.0   -0.1511     0.074     0.057   \n",
       "2 -115.172338          2537                4.0    0.9544     0.013     0.159   \n",
       "3 -115.170553          3984                4.5    0.7778     0.069     0.242   \n",
       "4 -115.154270           294                4.0    0.9406     0.024     0.152   \n",
       "\n",
       "   neutral  \n",
       "0    0.828  \n",
       "1    0.870  \n",
       "2    0.828  \n",
       "3    0.689  \n",
       "4    0.824  "
      ]
     },
     "execution_count": 5,
     "metadata": {},
     "output_type": "execute_result"
    }
   ],
   "source": [
    "training_data.head()"
   ]
  },
  {
   "cell_type": "code",
   "execution_count": 3,
   "metadata": {
    "collapsed": false
   },
   "outputs": [
    {
     "data": {
      "text/html": [
       "<div>\n",
       "<table border=\"1\" class=\"dataframe\">\n",
       "  <thead>\n",
       "    <tr style=\"text-align: right;\">\n",
       "      <th></th>\n",
       "      <th>count</th>\n",
       "      <th>mean</th>\n",
       "      <th>std</th>\n",
       "      <th>min</th>\n",
       "      <th>25%</th>\n",
       "      <th>50%</th>\n",
       "      <th>75%</th>\n",
       "      <th>max</th>\n",
       "    </tr>\n",
       "  </thead>\n",
       "  <tbody>\n",
       "    <tr>\n",
       "      <th>stars_reviews</th>\n",
       "      <td>370193</td>\n",
       "      <td>3.714846</td>\n",
       "      <td>1.273596</td>\n",
       "      <td>1.000000</td>\n",
       "      <td>3.000000</td>\n",
       "      <td>4.000000</td>\n",
       "      <td>5.000000</td>\n",
       "      <td>5.000000</td>\n",
       "    </tr>\n",
       "    <tr>\n",
       "      <th>latitude</th>\n",
       "      <td>370193</td>\n",
       "      <td>36.119310</td>\n",
       "      <td>0.043711</td>\n",
       "      <td>35.973171</td>\n",
       "      <td>36.104801</td>\n",
       "      <td>36.117034</td>\n",
       "      <td>36.131897</td>\n",
       "      <td>36.325757</td>\n",
       "    </tr>\n",
       "    <tr>\n",
       "      <th>longitude</th>\n",
       "      <td>370193</td>\n",
       "      <td>-115.189820</td>\n",
       "      <td>0.050648</td>\n",
       "      <td>-115.351900</td>\n",
       "      <td>-115.208430</td>\n",
       "      <td>-115.174356</td>\n",
       "      <td>-115.166312</td>\n",
       "      <td>-114.990361</td>\n",
       "    </tr>\n",
       "    <tr>\n",
       "      <th>review_count</th>\n",
       "      <td>370193</td>\n",
       "      <td>655.740751</td>\n",
       "      <td>903.976610</td>\n",
       "      <td>3.000000</td>\n",
       "      <td>130.000000</td>\n",
       "      <td>319.000000</td>\n",
       "      <td>729.000000</td>\n",
       "      <td>4578.000000</td>\n",
       "    </tr>\n",
       "    <tr>\n",
       "      <th>stars_restaurants</th>\n",
       "      <td>370193</td>\n",
       "      <td>3.707955</td>\n",
       "      <td>0.537986</td>\n",
       "      <td>1.000000</td>\n",
       "      <td>3.500000</td>\n",
       "      <td>4.000000</td>\n",
       "      <td>4.000000</td>\n",
       "      <td>5.000000</td>\n",
       "    </tr>\n",
       "    <tr>\n",
       "      <th>compound</th>\n",
       "      <td>370193</td>\n",
       "      <td>0.710592</td>\n",
       "      <td>0.492334</td>\n",
       "      <td>-0.998000</td>\n",
       "      <td>0.738500</td>\n",
       "      <td>0.932500</td>\n",
       "      <td>0.978600</td>\n",
       "      <td>0.999900</td>\n",
       "    </tr>\n",
       "    <tr>\n",
       "      <th>negative</th>\n",
       "      <td>370193</td>\n",
       "      <td>0.043150</td>\n",
       "      <td>0.054268</td>\n",
       "      <td>0.000000</td>\n",
       "      <td>0.000000</td>\n",
       "      <td>0.029000</td>\n",
       "      <td>0.063000</td>\n",
       "      <td>1.000000</td>\n",
       "    </tr>\n",
       "    <tr>\n",
       "      <th>positive</th>\n",
       "      <td>370193</td>\n",
       "      <td>0.202255</td>\n",
       "      <td>0.116716</td>\n",
       "      <td>0.000000</td>\n",
       "      <td>0.125000</td>\n",
       "      <td>0.185000</td>\n",
       "      <td>0.257000</td>\n",
       "      <td>1.000000</td>\n",
       "    </tr>\n",
       "    <tr>\n",
       "      <th>neutral</th>\n",
       "      <td>370193</td>\n",
       "      <td>0.754547</td>\n",
       "      <td>0.107848</td>\n",
       "      <td>0.000000</td>\n",
       "      <td>0.704000</td>\n",
       "      <td>0.771000</td>\n",
       "      <td>0.824000</td>\n",
       "      <td>1.000000</td>\n",
       "    </tr>\n",
       "  </tbody>\n",
       "</table>\n",
       "</div>"
      ],
      "text/plain": [
       "                    count        mean         std         min         25%  \\\n",
       "stars_reviews      370193    3.714846    1.273596    1.000000    3.000000   \n",
       "latitude           370193   36.119310    0.043711   35.973171   36.104801   \n",
       "longitude          370193 -115.189820    0.050648 -115.351900 -115.208430   \n",
       "review_count       370193  655.740751  903.976610    3.000000  130.000000   \n",
       "stars_restaurants  370193    3.707955    0.537986    1.000000    3.500000   \n",
       "compound           370193    0.710592    0.492334   -0.998000    0.738500   \n",
       "negative           370193    0.043150    0.054268    0.000000    0.000000   \n",
       "positive           370193    0.202255    0.116716    0.000000    0.125000   \n",
       "neutral            370193    0.754547    0.107848    0.000000    0.704000   \n",
       "\n",
       "                          50%         75%          max  \n",
       "stars_reviews        4.000000    5.000000     5.000000  \n",
       "latitude            36.117034   36.131897    36.325757  \n",
       "longitude         -115.174356 -115.166312  -114.990361  \n",
       "review_count       319.000000  729.000000  4578.000000  \n",
       "stars_restaurants    4.000000    4.000000     5.000000  \n",
       "compound             0.932500    0.978600     0.999900  \n",
       "negative             0.029000    0.063000     1.000000  \n",
       "positive             0.185000    0.257000     1.000000  \n",
       "neutral              0.771000    0.824000     1.000000  "
      ]
     },
     "execution_count": 3,
     "metadata": {},
     "output_type": "execute_result"
    }
   ],
   "source": [
    "training_data.describe().T"
   ]
  },
  {
   "cell_type": "code",
   "execution_count": 4,
   "metadata": {
    "collapsed": false
   },
   "outputs": [
    {
     "name": "stdout",
     "output_type": "stream",
     "text": [
      "<class 'pandas.core.frame.DataFrame'>\n",
      "Int64Index: 370193 entries, 0 to 370192\n",
      "Data columns (total 11 columns):\n",
      "business_id          370193 non-null object\n",
      "review_id            370193 non-null object\n",
      "stars_reviews        370193 non-null float64\n",
      "latitude             370193 non-null float64\n",
      "longitude            370193 non-null float64\n",
      "review_count         370193 non-null float64\n",
      "stars_restaurants    370193 non-null float64\n",
      "compound             370193 non-null float64\n",
      "negative             370193 non-null float64\n",
      "positive             370193 non-null float64\n",
      "neutral              370193 non-null float64\n",
      "dtypes: float64(9), object(2)\n",
      "memory usage: 33.9+ MB\n"
     ]
    }
   ],
   "source": [
    "training_data.info()"
   ]
  },
  {
   "cell_type": "code",
   "execution_count": 5,
   "metadata": {
    "collapsed": false
   },
   "outputs": [],
   "source": [
    "# cols = ['latitude', 'longitude', 'review_count', 'compound', 'negative', 'positive', 'neutral']\n",
    "cols = ['compound', 'negative', 'positive', 'neutral']\n",
    "X = training_data[cols]\n",
    "y = training_data['stars_reviews']"
   ]
  },
  {
   "cell_type": "code",
   "execution_count": 69,
   "metadata": {
    "collapsed": true
   },
   "outputs": [],
   "source": [
    "# from sklearn.cross_validation import train_test_split\n",
    "# X_train, X_test, y_train, y_test = train_test_split(X, y, test_size=0.25)"
   ]
  },
  {
   "cell_type": "code",
   "execution_count": 6,
   "metadata": {
    "collapsed": true
   },
   "outputs": [],
   "source": [
    "from sklearn.preprocessing import MinMaxScaler\n",
    "scaler = MinMaxScaler()\n",
    "X_std = scaler.fit_transform(X)\n",
    "# X_te_std = scaler.transform(X_test)"
   ]
  },
  {
   "cell_type": "code",
   "execution_count": 7,
   "metadata": {
    "collapsed": true
   },
   "outputs": [],
   "source": [
    "from sklearn.naive_bayes import MultinomialNB\n",
    "from sklearn.naive_bayes import GaussianNB\n",
    "from sklearn.linear_model import LogisticRegression\n",
    "from sklearn.ensemble import RandomForestClassifier\n",
    "from sklearn.svm import LinearSVC\n",
    "from sklearn.neighbors import KNeighborsClassifier\n",
    "from sklearn import tree\n",
    "from sklearn.cross_validation import cross_val_score"
   ]
  },
  {
   "cell_type": "code",
   "execution_count": 8,
   "metadata": {
    "collapsed": false
   },
   "outputs": [
    {
     "name": "stdout",
     "output_type": "stream",
     "text": [
      "0.415588793525\n"
     ]
    },
    {
     "name": "stderr",
     "output_type": "stream",
     "text": [
      "[Parallel(n_jobs=4)]: Done   5 out of   5 | elapsed:    2.9s finished\n"
     ]
    }
   ],
   "source": [
    "clf = tree.DecisionTreeClassifier(max_leaf_nodes=10)\n",
    "print cross_val_score(clf, X_std, y, cv=5, n_jobs=4, verbose=True).mean()\n"
   ]
  },
  {
   "cell_type": "code",
   "execution_count": null,
   "metadata": {
    "collapsed": true
   },
   "outputs": [],
   "source": []
  },
  {
   "cell_type": "code",
   "execution_count": null,
   "metadata": {
    "collapsed": true
   },
   "outputs": [],
   "source": []
  },
  {
   "cell_type": "code",
   "execution_count": null,
   "metadata": {
    "collapsed": true
   },
   "outputs": [],
   "source": []
  },
  {
   "cell_type": "code",
   "execution_count": null,
   "metadata": {
    "collapsed": true
   },
   "outputs": [],
   "source": []
  },
  {
   "cell_type": "code",
   "execution_count": null,
   "metadata": {
    "collapsed": true
   },
   "outputs": [],
   "source": []
  },
  {
   "cell_type": "code",
   "execution_count": null,
   "metadata": {
    "collapsed": true
   },
   "outputs": [],
   "source": []
  },
  {
   "cell_type": "code",
   "execution_count": null,
   "metadata": {
    "collapsed": true
   },
   "outputs": [],
   "source": []
  },
  {
   "cell_type": "code",
   "execution_count": null,
   "metadata": {
    "collapsed": true
   },
   "outputs": [],
   "source": []
  },
  {
   "cell_type": "code",
   "execution_count": null,
   "metadata": {
    "collapsed": true
   },
   "outputs": [],
   "source": []
  },
  {
   "cell_type": "code",
   "execution_count": null,
   "metadata": {
    "collapsed": true
   },
   "outputs": [],
   "source": []
  },
  {
   "cell_type": "code",
   "execution_count": null,
   "metadata": {
    "collapsed": true
   },
   "outputs": [],
   "source": []
  },
  {
   "cell_type": "code",
   "execution_count": null,
   "metadata": {
    "collapsed": true
   },
   "outputs": [],
   "source": []
  },
  {
   "cell_type": "code",
   "execution_count": null,
   "metadata": {
    "collapsed": true
   },
   "outputs": [],
   "source": []
  },
  {
   "cell_type": "code",
   "execution_count": null,
   "metadata": {
    "collapsed": true
   },
   "outputs": [],
   "source": []
  },
  {
   "cell_type": "code",
   "execution_count": null,
   "metadata": {
    "collapsed": true
   },
   "outputs": [],
   "source": []
  },
  {
   "cell_type": "code",
   "execution_count": null,
   "metadata": {
    "collapsed": true
   },
   "outputs": [],
   "source": []
  },
  {
   "cell_type": "code",
   "execution_count": null,
   "metadata": {
    "collapsed": true
   },
   "outputs": [],
   "source": []
  },
  {
   "cell_type": "code",
   "execution_count": null,
   "metadata": {
    "collapsed": true
   },
   "outputs": [],
   "source": []
  },
  {
   "cell_type": "code",
   "execution_count": null,
   "metadata": {
    "collapsed": true
   },
   "outputs": [],
   "source": []
  },
  {
   "cell_type": "code",
   "execution_count": null,
   "metadata": {
    "collapsed": true
   },
   "outputs": [],
   "source": []
  },
  {
   "cell_type": "code",
   "execution_count": null,
   "metadata": {
    "collapsed": true
   },
   "outputs": [],
   "source": []
  },
  {
   "cell_type": "code",
   "execution_count": null,
   "metadata": {
    "collapsed": true
   },
   "outputs": [],
   "source": []
  },
  {
   "cell_type": "code",
   "execution_count": null,
   "metadata": {
    "collapsed": true
   },
   "outputs": [],
   "source": []
  },
  {
   "cell_type": "code",
   "execution_count": null,
   "metadata": {
    "collapsed": true
   },
   "outputs": [],
   "source": []
  },
  {
   "cell_type": "code",
   "execution_count": null,
   "metadata": {
    "collapsed": true
   },
   "outputs": [],
   "source": []
  },
  {
   "cell_type": "code",
   "execution_count": null,
   "metadata": {
    "collapsed": true
   },
   "outputs": [],
   "source": []
  },
  {
   "cell_type": "code",
   "execution_count": null,
   "metadata": {
    "collapsed": true
   },
   "outputs": [],
   "source": []
  },
  {
   "cell_type": "code",
   "execution_count": null,
   "metadata": {
    "collapsed": true
   },
   "outputs": [],
   "source": []
  },
  {
   "cell_type": "code",
   "execution_count": null,
   "metadata": {
    "collapsed": true
   },
   "outputs": [],
   "source": []
  },
  {
   "cell_type": "code",
   "execution_count": null,
   "metadata": {
    "collapsed": true
   },
   "outputs": [],
   "source": []
  },
  {
   "cell_type": "code",
   "execution_count": null,
   "metadata": {
    "collapsed": true
   },
   "outputs": [],
   "source": []
  },
  {
   "cell_type": "code",
   "execution_count": null,
   "metadata": {
    "collapsed": true
   },
   "outputs": [],
   "source": []
  },
  {
   "cell_type": "code",
   "execution_count": null,
   "metadata": {
    "collapsed": true
   },
   "outputs": [],
   "source": []
  },
  {
   "cell_type": "code",
   "execution_count": null,
   "metadata": {
    "collapsed": true
   },
   "outputs": [],
   "source": []
  },
  {
   "cell_type": "code",
   "execution_count": null,
   "metadata": {
    "collapsed": true
   },
   "outputs": [],
   "source": []
  },
  {
   "cell_type": "code",
   "execution_count": null,
   "metadata": {
    "collapsed": true
   },
   "outputs": [],
   "source": []
  }
 ],
 "metadata": {
  "kernelspec": {
   "display_name": "Python 2",
   "language": "python",
   "name": "python2"
  },
  "language_info": {
   "codemirror_mode": {
    "name": "ipython",
    "version": 2
   },
   "file_extension": ".py",
   "mimetype": "text/x-python",
   "name": "python",
   "nbconvert_exporter": "python",
   "pygments_lexer": "ipython2",
   "version": "2.7.10"
  }
 },
 "nbformat": 4,
 "nbformat_minor": 0
}
