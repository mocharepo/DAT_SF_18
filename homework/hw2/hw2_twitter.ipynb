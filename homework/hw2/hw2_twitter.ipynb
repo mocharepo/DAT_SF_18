{
 "cells": [
  {
   "cell_type": "code",
   "execution_count": 73,
   "metadata": {
    "collapsed": false
   },
   "outputs": [],
   "source": [
    "import oauth2 as oauth\n",
    "import urllib2 as urllib\n",
    "import json\n",
    "import pandas as pd\n",
    "\n",
    "# See assignment1.html instructions or README for how to get these credentials\n",
    "\n",
    "api_key = \"vT96WiMY9zGkQiaW1oxqRAWUp\"\n",
    "api_secret = \"Hn2tEJrExaEPHbNq9uyZDhdeY9ro2Wx75lcimUPQ09lgVpSvC7\"\n",
    "access_token_key = \"2723059178-LdJhYkZ7kV5qFrC1gAOs2vaRQOWiBA91JawaGQP\"\n",
    "access_token_secret = \"pHjH9OPdN1O9LX0Aj1z6S0X9rKNRYm2vfheX9OmhSleB0\"\n",
    "\n",
    "_debug = 0\n",
    "\n",
    "oauth_token    = oauth.Token(key=access_token_key, secret=access_token_secret)\n",
    "oauth_consumer = oauth.Consumer(key=api_key, secret=api_secret)\n",
    "\n",
    "signature_method_hmac_sha1 = oauth.SignatureMethod_HMAC_SHA1()\n",
    "\n",
    "http_method = \"GET\"\n",
    "\n",
    "\n",
    "http_handler  = urllib.HTTPHandler(debuglevel=_debug)\n",
    "https_handler = urllib.HTTPSHandler(debuglevel=_debug)\n",
    "\n",
    "'''\n",
    "Construct, sign, and open a twitter request\n",
    "using the hard-coded credentials above.\n",
    "'''\n",
    "def twitterreq(url, method, parameters):\n",
    "  req = oauth.Request.from_consumer_and_token(oauth_consumer,\n",
    "                                             token=oauth_token,\n",
    "                                             http_method=http_method,\n",
    "                                             http_url=url, \n",
    "                                             parameters=parameters)\n",
    "\n",
    "  req.sign_request(signature_method_hmac_sha1, oauth_consumer, oauth_token)\n",
    "\n",
    "  headers = req.to_header()\n",
    "\n",
    "  if http_method == \"POST\":\n",
    "    encoded_post_data = req.to_postdata()\n",
    "  else:\n",
    "    encoded_post_data = None\n",
    "    url = req.to_url()\n",
    "\n",
    "  opener = urllib.OpenerDirector()\n",
    "  opener.add_handler(http_handler)\n",
    "  opener.add_handler(https_handler)\n",
    "\n",
    "  response = opener.open(url, encoded_post_data)\n",
    "\n",
    "  return response\n",
    "\n"
   ]
  },
  {
   "cell_type": "code",
   "execution_count": 87,
   "metadata": {
    "collapsed": true
   },
   "outputs": [],
   "source": [
    "def fetchsamples():\n",
    "  url = \"https://api.twitter.com/1.1/search/tweets.json?count=150&lang=en&q=ParisAttacks&result_type=mixed\"\n",
    "  parameters = []\n",
    "  response = twitterreq(url, \"GET\", parameters)\n",
    "  statuses = []\n",
    "  for line in response:\n",
    "    line.strip()\n",
    "    statuses.append(line)\n",
    "  return statuses"
   ]
  },
  {
   "cell_type": "code",
   "execution_count": 88,
   "metadata": {
    "collapsed": false
   },
   "outputs": [],
   "source": [
    "tweet_feed = fetchsamples()"
   ]
  },
  {
   "cell_type": "code",
   "execution_count": 89,
   "metadata": {
    "collapsed": false
   },
   "outputs": [
    {
     "name": "stdout",
     "output_type": "stream",
     "text": [
      "1\n",
      "{u'contributors': None, u'truncated': False, u'text': u'\"They\\'ve got guns but we have flowers.\"\\nWatch a father\\'s heartwarming talk with his young son about #ParisAttacks\\nhttps://t.co/7o9xQIORAZ', u'is_quote_status': False, u'in_reply_to_status_id': None, u'id': 666686766959620096, u'favorite_count': 2321, u'source': u'<a href=\"http://twitter.com\" rel=\"nofollow\">Twitter Web Client</a>', u'retweeted': False, u'coordinates': None, u'entities': {u'symbols': [], u'user_mentions': [], u'hashtags': [{u'indices': [100, 113], u'text': u'ParisAttacks'}], u'urls': [{u'url': u'https://t.co/7o9xQIORAZ', u'indices': [114, 137], u'expanded_url': u'https://amp.twimg.com/v/d2190d0d-1860-47ae-8008-6fe03f78670b', u'display_url': u'amp.twimg.com/v/d2190d0d-186\\u2026'}]}, u'in_reply_to_screen_name': None, u'in_reply_to_user_id': None, u'retweet_count': 2117, u'id_str': u'666686766959620096', u'favorited': False, u'user': {u'follow_request_sent': False, u'has_extended_profile': False, u'profile_use_background_image': True, u'default_profile_image': False, u'id': 14173315, u'profile_background_image_url_https': u'https://pbs.twimg.com/profile_background_images/378800000181859512/-65VAaUv.jpeg', u'verified': True, u'profile_text_color': u'000000', u'profile_image_url_https': u'https://pbs.twimg.com/profile_images/665169433409806336/kb2ZRPjd_normal.png', u'profile_sidebar_fill_color': u'FFFFFF', u'entities': {u'url': {u'urls': [{u'url': u'http://t.co/UXSP362YuW', u'indices': [0, 22], u'expanded_url': u'http://NBCNews.com', u'display_url': u'NBCNews.com'}]}, u'description': {u'urls': []}}, u'followers_count': 2736100, u'profile_sidebar_border_color': u'FFFFFF', u'id_str': u'14173315', u'profile_background_color': u'062131', u'listed_count': 28328, u'is_translation_enabled': False, u'utc_offset': -18000, u'statuses_count': 65592, u'description': u'A leading source of global news and information for more than 75 years.', u'friends_count': 2886, u'location': u'New York, NY', u'profile_link_color': u'5172A0', u'profile_image_url': u'http://pbs.twimg.com/profile_images/665169433409806336/kb2ZRPjd_normal.png', u'following': False, u'geo_enabled': False, u'profile_banner_url': u'https://pbs.twimg.com/profile_banners/14173315/1398265945', u'profile_background_image_url': u'http://pbs.twimg.com/profile_background_images/378800000181859512/-65VAaUv.jpeg', u'screen_name': u'NBCNews', u'lang': u'en', u'profile_background_tile': True, u'favourites_count': 670, u'name': u'NBC News', u'notifications': False, u'url': u'http://t.co/UXSP362YuW', u'created_at': u'Tue Mar 18 23:19:17 +0000 2008', u'contributors_enabled': False, u'time_zone': u'Eastern Time (US & Canada)', u'protected': False, u'default_profile': False, u'is_translator': False}, u'geo': None, u'in_reply_to_user_id_str': None, u'possibly_sensitive': False, u'lang': u'en', u'created_at': u'Tue Nov 17 18:38:06 +0000 2015', u'in_reply_to_status_id_str': None, u'place': None, u'metadata': {u'iso_language_code': u'en', u'result_type': u'popular'}}\n"
     ]
    }
   ],
   "source": [
    "print len(tweet_feed)\n",
    "parsed_feed = json.loads(tweet_feed[0])\n",
    "print parsed_feed['statuses'][0]"
   ]
  },
  {
   "cell_type": "code",
   "execution_count": 90,
   "metadata": {
    "collapsed": false
   },
   "outputs": [
    {
     "name": "stdout",
     "output_type": "stream",
     "text": [
      "[u'contributors', u'truncated', u'text', u'is_quote_status', u'in_reply_to_status_id', u'id', u'favorite_count', u'source', u'retweeted', u'coordinates', u'entities', u'in_reply_to_screen_name', u'in_reply_to_user_id', u'retweet_count', u'id_str', u'favorited', u'user', u'geo', u'in_reply_to_user_id_str', u'possibly_sensitive', u'lang', u'created_at', u'in_reply_to_status_id_str', u'place', u'metadata']\n",
      "\n",
      "\n",
      "[u'follow_request_sent', u'has_extended_profile', u'profile_use_background_image', u'default_profile_image', u'id', u'profile_background_image_url_https', u'verified', u'profile_text_color', u'profile_image_url_https', u'profile_sidebar_fill_color', u'entities', u'followers_count', u'profile_sidebar_border_color', u'id_str', u'profile_background_color', u'listed_count', u'is_translation_enabled', u'utc_offset', u'statuses_count', u'description', u'friends_count', u'location', u'profile_link_color', u'profile_image_url', u'following', u'geo_enabled', u'profile_banner_url', u'profile_background_image_url', u'screen_name', u'lang', u'profile_background_tile', u'favourites_count', u'name', u'notifications', u'url', u'created_at', u'contributors_enabled', u'time_zone', u'protected', u'default_profile', u'is_translator']\n"
     ]
    }
   ],
   "source": [
    "print parsed_feed['statuses'][0].keys()\n",
    "print '\\n'\n",
    "print parsed_feed['statuses'][0]['user'].keys()"
   ]
  },
  {
   "cell_type": "code",
   "execution_count": 94,
   "metadata": {
    "collapsed": false
   },
   "outputs": [
    {
     "name": "stdout",
     "output_type": "stream",
     "text": [
      "100\n"
     ]
    },
    {
     "data": {
      "text/html": [
       "<div style=\"max-height:1000px;max-width:1500px;overflow:auto;\">\n",
       "<table border=\"1\" class=\"dataframe\">\n",
       "  <thead>\n",
       "    <tr style=\"text-align: right;\">\n",
       "      <th></th>\n",
       "      <th>hashtags</th>\n",
       "      <th>id</th>\n",
       "      <th>location</th>\n",
       "      <th>text</th>\n",
       "      <th>time</th>\n",
       "      <th>username</th>\n",
       "    </tr>\n",
       "  </thead>\n",
       "  <tbody>\n",
       "    <tr>\n",
       "      <th>0</th>\n",
       "      <td>[ParisAttacks]</td>\n",
       "      <td>666686766959620096</td>\n",
       "      <td>New York, NY</td>\n",
       "      <td>\"They've got guns but we have flowers.\"\\nWatch...</td>\n",
       "      <td>Nov 17 18 hrs</td>\n",
       "      <td>NBCNews</td>\n",
       "    </tr>\n",
       "    <tr>\n",
       "      <th>1</th>\n",
       "      <td>[Parisattacks]</td>\n",
       "      <td>666695443296972800</td>\n",
       "      <td></td>\n",
       "      <td>[#Parisattacks] French police wants to identif...</td>\n",
       "      <td>Nov 17 19 hrs</td>\n",
       "      <td>PNationale</td>\n",
       "    </tr>\n",
       "    <tr>\n",
       "      <th>2</th>\n",
       "      <td>[ParisAttacks, Islamophobia]</td>\n",
       "      <td>666363017215410176</td>\n",
       "      <td>Moscow</td>\n",
       "      <td>\"Hug me if you trust me, I'm told I'm a terror...</td>\n",
       "      <td>Nov 16 21 hrs</td>\n",
       "      <td>INTHENOWRT</td>\n",
       "    </tr>\n",
       "    <tr>\n",
       "      <th>3</th>\n",
       "      <td>[Texas, France, ParisAttacks]</td>\n",
       "      <td>667067353314795520</td>\n",
       "      <td>Brussels BE</td>\n",
       "      <td>RT @EUAmbUS: Touched by expression of support ...</td>\n",
       "      <td>Nov 18 19 hrs</td>\n",
       "      <td>AndyKlomEU</td>\n",
       "    </tr>\n",
       "    <tr>\n",
       "      <th>4</th>\n",
       "      <td>[ParisAttacks]</td>\n",
       "      <td>667067352802983936</td>\n",
       "      <td></td>\n",
       "      <td>RT @katiecouric: This video is so moving. A fa...</td>\n",
       "      <td>Nov 18 19 hrs</td>\n",
       "      <td>drpowersmd</td>\n",
       "    </tr>\n",
       "  </tbody>\n",
       "</table>\n",
       "</div>"
      ],
      "text/plain": [
       "                        hashtags                  id      location  \\\n",
       "0                 [ParisAttacks]  666686766959620096  New York, NY   \n",
       "1                 [Parisattacks]  666695443296972800                 \n",
       "2   [ParisAttacks, Islamophobia]  666363017215410176        Moscow   \n",
       "3  [Texas, France, ParisAttacks]  667067353314795520   Brussels BE   \n",
       "4                 [ParisAttacks]  667067352802983936                 \n",
       "\n",
       "                                                text           time  \\\n",
       "0  \"They've got guns but we have flowers.\"\\nWatch...  Nov 17 18 hrs   \n",
       "1  [#Parisattacks] French police wants to identif...  Nov 17 19 hrs   \n",
       "2  \"Hug me if you trust me, I'm told I'm a terror...  Nov 16 21 hrs   \n",
       "3  RT @EUAmbUS: Touched by expression of support ...  Nov 18 19 hrs   \n",
       "4  RT @katiecouric: This video is so moving. A fa...  Nov 18 19 hrs   \n",
       "\n",
       "     username  \n",
       "0     NBCNews  \n",
       "1  PNationale  \n",
       "2  INTHENOWRT  \n",
       "3  AndyKlomEU  \n",
       "4  drpowersmd  "
      ]
     },
     "execution_count": 94,
     "metadata": {},
     "output_type": "execute_result"
    }
   ],
   "source": [
    "# Variables needed to be extracted: location, created_at, text, user.screen_name, \n",
    "tweet_time = []\n",
    "tweet_id = []\n",
    "tweet_text = []\n",
    "user_name = []\n",
    "user_location = []\n",
    "hashtags = []\n",
    "print len(parsed_feed['statuses'])\n",
    "tweets_list = parsed_feed['statuses']\n",
    "for s in tweets_list:\n",
    "    tweet_time_split = s['created_at'].split()\n",
    "    tweet_h_split = tweet_time_split[3].split(':')\n",
    "    tweet_hour = tweet_time_split[1]+' '+tweet_time_split[2]+' '+tweet_h_split[0]+' '+'hrs'\n",
    "    tweet_time.append(tweet_hour)\n",
    "    tweet_id.append(s['id'])\n",
    "    tweet_text.append(s['text'])\n",
    "    user_name.append(s['user']['screen_name'])\n",
    "    user_location.append(s['user']['location'])\n",
    "    hashtags_dict = s['entities']['hashtags']\n",
    "    hashtags_list = [h['text'] for h in hashtags_dict]\n",
    "    hashtags.append(hashtags_list)\n",
    "    \n",
    "twitter_df = pd.DataFrame({'time':tweet_time, 'id':tweet_id, 'text':tweet_text, 'hashtags':hashtags, \n",
    "                           'username':user_name, 'location':user_location})\n",
    "\n",
    "twitter_df.head(5)"
   ]
  },
  {
   "cell_type": "code",
   "execution_count": 105,
   "metadata": {
    "collapsed": false
   },
   "outputs": [],
   "source": [
    "%matplotlib inline\n",
    "from bokeh.plotting import figure, show, output_file, vplot\n",
    "time_coutns = twitter_df['time'].apply(pd.value_counts)"
   ]
  },
  {
   "cell_type": "code",
   "execution_count": 107,
   "metadata": {
    "collapsed": false
   },
   "outputs": [],
   "source": [
    "from collections import Counter\n",
    "import numpy as np\n",
    "# a = ['a', 'a', 'a', 'a', 'b', 'b', 'c', 'c', 'c', 'd', 'e', 'e', 'e', 'e', 'e']\n",
    "letter_counts = Counter(twitter_df['time'].values)\n",
    "df = pd.DataFrame.from_dict(letter_counts, orient='index')\n",
    "# df.plot(kind='bar')\n",
    "p1 = figure()\n",
    "hist, edges = np.histogram(time_coutns, density=True, bins=50)\n",
    "\n",
    "p1.quad(top=hist, bottom=0, left=edges[:-1], right=edges[1:],\n",
    "     fill_color=\"#036564\", line_color=\"#033649\")\n",
    "show(p1)"
   ]
  },
  {
   "cell_type": "code",
   "execution_count": null,
   "metadata": {
    "collapsed": true
   },
   "outputs": [],
   "source": []
  }
 ],
 "metadata": {
  "kernelspec": {
   "display_name": "Python 2",
   "language": "python",
   "name": "python2"
  },
  "language_info": {
   "codemirror_mode": {
    "name": "ipython",
    "version": 2
   },
   "file_extension": ".py",
   "mimetype": "text/x-python",
   "name": "python",
   "nbconvert_exporter": "python",
   "pygments_lexer": "ipython2",
   "version": "2.7.10"
  }
 },
 "nbformat": 4,
 "nbformat_minor": 0
}
