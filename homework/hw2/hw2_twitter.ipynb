{
 "cells": [
  {
   "cell_type": "code",
   "execution_count": 1,
   "metadata": {
    "collapsed": false
   },
   "outputs": [],
   "source": [
    "import oauth2 as oauth\n",
    "import urllib2 as urllib\n",
    "import json\n",
    "\n",
    "# See assignment1.html instructions or README for how to get these credentials\n",
    "\n",
    "api_key = \"vT96WiMY9zGkQiaW1oxqRAWUp\"\n",
    "api_secret = \"Hn2tEJrExaEPHbNq9uyZDhdeY9ro2Wx75lcimUPQ09lgVpSvC7\"\n",
    "access_token_key = \"2723059178-LdJhYkZ7kV5qFrC1gAOs2vaRQOWiBA91JawaGQP\"\n",
    "access_token_secret = \"pHjH9OPdN1O9LX0Aj1z6S0X9rKNRYm2vfheX9OmhSleB0\"\n",
    "\n",
    "_debug = 0\n",
    "\n",
    "oauth_token    = oauth.Token(key=access_token_key, secret=access_token_secret)\n",
    "oauth_consumer = oauth.Consumer(key=api_key, secret=api_secret)\n",
    "\n",
    "signature_method_hmac_sha1 = oauth.SignatureMethod_HMAC_SHA1()\n",
    "\n",
    "http_method = \"GET\"\n",
    "\n",
    "\n",
    "http_handler  = urllib.HTTPHandler(debuglevel=_debug)\n",
    "https_handler = urllib.HTTPSHandler(debuglevel=_debug)\n",
    "\n",
    "'''\n",
    "Construct, sign, and open a twitter request\n",
    "using the hard-coded credentials above.\n",
    "'''\n",
    "def twitterreq(url, method, parameters):\n",
    "  req = oauth.Request.from_consumer_and_token(oauth_consumer,\n",
    "                                             token=oauth_token,\n",
    "                                             http_method=http_method,\n",
    "                                             http_url=url, \n",
    "                                             parameters=parameters)\n",
    "\n",
    "  req.sign_request(signature_method_hmac_sha1, oauth_consumer, oauth_token)\n",
    "\n",
    "  headers = req.to_header()\n",
    "\n",
    "  if http_method == \"POST\":\n",
    "    encoded_post_data = req.to_postdata()\n",
    "  else:\n",
    "    encoded_post_data = None\n",
    "    url = req.to_url()\n",
    "\n",
    "  opener = urllib.OpenerDirector()\n",
    "  opener.add_handler(http_handler)\n",
    "  opener.add_handler(https_handler)\n",
    "\n",
    "  response = opener.open(url, encoded_post_data)\n",
    "\n",
    "  return response\n",
    "\n"
   ]
  },
  {
   "cell_type": "code",
   "execution_count": 10,
   "metadata": {
    "collapsed": true
   },
   "outputs": [],
   "source": [
    "def fetchsamples():\n",
    "  url = \"https://api.twitter.com/1.1/search/tweets.json?count=2&lang=en&q=ParisAttacks\"\n",
    "  parameters = []\n",
    "  response = twitterreq(url, \"GET\", parameters)\n",
    "  statuses = []\n",
    "  for line in response:\n",
    "    line.strip()\n",
    "    statuses.append(line)\n",
    "  return statuses"
   ]
  },
  {
   "cell_type": "code",
   "execution_count": 28,
   "metadata": {
    "collapsed": false
   },
   "outputs": [],
   "source": [
    "statuses = fetchsamples()"
   ]
  },
  {
   "cell_type": "code",
   "execution_count": 29,
   "metadata": {
    "collapsed": false
   },
   "outputs": [
    {
     "name": "stdout",
     "output_type": "stream",
     "text": [
      "{u'search_metadata': {u'count': 2, u'completed_in': 0.018, u'max_id_str': u'666765766398644224', u'since_id_str': u'0', u'next_results': u'?max_id=666765766218244095&q=ParisAttacks&lang=en&count=2&include_entities=1', u'refresh_url': u'?since_id=666765766398644224&q=ParisAttacks&lang=en&include_entities=1', u'since_id': 0, u'query': u'ParisAttacks', u'max_id': 666765766398644224}, u'statuses': [{u'contributors': None, u'truncated': False, u'text': u\"RT @AFP: 'They have the weapons. Screw them, we have the champagne': Charlie Hebdo on #ParisAttacks https://t.co/QEKVpDwcgg https://t.co/eG\\u2026\", u'is_quote_status': False, u'in_reply_to_status_id': None, u'id': 666765766398644224, u'favorite_count': 0, u'source': u'<a href=\"http://twitter.com/download/iphone\" rel=\"nofollow\">Twitter for iPhone</a>', u'retweeted': False, u'coordinates': None, u'entities': {u'symbols': [], u'user_mentions': [{u'id': 380648579, u'indices': [3, 7], u'id_str': u'380648579', u'screen_name': u'AFP', u'name': u'Agence France-Presse'}], u'hashtags': [{u'indices': [86, 99], u'text': u'ParisAttacks'}], u'urls': [{u'url': u'https://t.co/QEKVpDwcgg', u'indices': [100, 123], u'expanded_url': u'http://u.afp.com/ZYb5', u'display_url': u'u.afp.com/ZYb5'}], u'media': [{u'source_user_id': 380648579, u'source_status_id_str': u'666644730583760900', u'expanded_url': u'http://twitter.com/AFP/status/666644730583760900/photo/1', u'display_url': u'pic.twitter.com/eGKetn4sgI', u'url': u'https://t.co/eGKetn4sgI', u'media_url_https': u'https://pbs.twimg.com/media/CUBiGQQWwAAshaq.jpg', u'source_user_id_str': u'380648579', u'source_status_id': 666644730583760900, u'id_str': u'666640604433137664', u'sizes': {u'large': {u'h': 641, u'resize': u'fit', u'w': 500}, u'small': {u'h': 435, u'resize': u'fit', u'w': 340}, u'medium': {u'h': 641, u'resize': u'fit', u'w': 500}, u'thumb': {u'h': 150, u'resize': u'crop', u'w': 150}}, u'indices': [124, 140], u'type': u'photo', u'id': 666640604433137664, u'media_url': u'http://pbs.twimg.com/media/CUBiGQQWwAAshaq.jpg'}]}, u'in_reply_to_screen_name': None, u'in_reply_to_user_id': None, u'retweet_count': 552, u'id_str': u'666765766398644224', u'favorited': False, u'retweeted_status': {u'contributors': None, u'truncated': False, u'text': u\"'They have the weapons. Screw them, we have the champagne': Charlie Hebdo on #ParisAttacks https://t.co/QEKVpDwcgg https://t.co/eGKetn4sgI\", u'is_quote_status': False, u'in_reply_to_status_id': None, u'id': 666644730583760900, u'favorite_count': 271, u'source': u'<a href=\"https://about.twitter.com/products/tweetdeck\" rel=\"nofollow\">TweetDeck</a>', u'retweeted': False, u'coordinates': None, u'entities': {u'symbols': [], u'user_mentions': [], u'hashtags': [{u'indices': [77, 90], u'text': u'ParisAttacks'}], u'urls': [{u'url': u'https://t.co/QEKVpDwcgg', u'indices': [91, 114], u'expanded_url': u'http://u.afp.com/ZYb5', u'display_url': u'u.afp.com/ZYb5'}], u'media': [{u'expanded_url': u'http://twitter.com/AFP/status/666644730583760900/photo/1', u'display_url': u'pic.twitter.com/eGKetn4sgI', u'url': u'https://t.co/eGKetn4sgI', u'media_url_https': u'https://pbs.twimg.com/media/CUBiGQQWwAAshaq.jpg', u'id_str': u'666640604433137664', u'sizes': {u'large': {u'h': 641, u'resize': u'fit', u'w': 500}, u'small': {u'h': 435, u'resize': u'fit', u'w': 340}, u'medium': {u'h': 641, u'resize': u'fit', u'w': 500}, u'thumb': {u'h': 150, u'resize': u'crop', u'w': 150}}, u'indices': [115, 138], u'type': u'photo', u'id': 666640604433137664, u'media_url': u'http://pbs.twimg.com/media/CUBiGQQWwAAshaq.jpg'}]}, u'in_reply_to_screen_name': None, u'in_reply_to_user_id': None, u'retweet_count': 552, u'id_str': u'666644730583760900', u'favorited': False, u'user': {u'follow_request_sent': False, u'has_extended_profile': False, u'profile_use_background_image': True, u'default_profile_image': False, u'id': 380648579, u'profile_background_image_url_https': u'https://pbs.twimg.com/profile_background_images/579525526/bk1nk0d4v59httnhh2uu.jpeg', u'verified': True, u'profile_text_color': u'333333', u'profile_image_url_https': u'https://pbs.twimg.com/profile_images/557099613715324930/0Az9ucH3_normal.jpeg', u'profile_sidebar_fill_color': u'E6F6F9', u'entities': {u'url': {u'urls': [{u'url': u'http://t.co/kqhCI1Bvmj', u'indices': [0, 22], u'expanded_url': u'http://www.afp.com/en', u'display_url': u'afp.com/en'}]}, u'description': {u'urls': []}}, u'followers_count': 532303, u'profile_sidebar_border_color': u'DBE9ED', u'id_str': u'380648579', u'profile_background_color': u'C0DEED', u'listed_count': 11762, u'is_translation_enabled': True, u'utc_offset': 3600, u'statuses_count': 86811, u'description': u\"News - and the stories behind the news - from AFP's reporters around the world. In French: @afpfr. In Spanish: @AFPespanol. For photos: @AFPphoto\", u'friends_count': 519, u'location': u'France', u'profile_link_color': u'0084B4', u'profile_image_url': u'http://pbs.twimg.com/profile_images/557099613715324930/0Az9ucH3_normal.jpeg', u'following': False, u'geo_enabled': False, u'profile_banner_url': u'https://pbs.twimg.com/profile_banners/380648579/1447688575', u'profile_background_image_url': u'http://pbs.twimg.com/profile_background_images/579525526/bk1nk0d4v59httnhh2uu.jpeg', u'screen_name': u'AFP', u'lang': u'en', u'profile_background_tile': False, u'favourites_count': 0, u'name': u'Agence France-Presse', u'notifications': False, u'url': u'http://t.co/kqhCI1Bvmj', u'created_at': u'Tue Sep 27 00:35:10 +0000 2011', u'contributors_enabled': False, u'time_zone': u'Paris', u'protected': False, u'default_profile': False, u'is_translator': False}, u'geo': None, u'in_reply_to_user_id_str': None, u'possibly_sensitive': False, u'lang': u'en', u'created_at': u'Tue Nov 17 15:51:04 +0000 2015', u'in_reply_to_status_id_str': None, u'place': None, u'metadata': {u'iso_language_code': u'en', u'result_type': u'recent'}}, u'user': {u'follow_request_sent': False, u'has_extended_profile': False, u'profile_use_background_image': True, u'default_profile_image': False, u'id': 32512440, u'profile_background_image_url_https': u'https://pbs.twimg.com/profile_background_images/625437960/485edxxjsi2oinp9wfa9.jpeg', u'verified': False, u'profile_text_color': u'000000', u'profile_image_url_https': u'https://pbs.twimg.com/profile_images/642767312911642624/X3YOqZSA_normal.jpg', u'profile_sidebar_fill_color': u'BFFA84', u'entities': {u'url': {u'urls': [{u'url': u'https://t.co/GPOwsnEx7h', u'indices': [0, 23], u'expanded_url': u'https://foursquare.com/marckyizms', u'display_url': u'foursquare.com/marckyizms'}]}, u'description': {u'urls': []}}, u'followers_count': 214, u'profile_sidebar_border_color': u'FFFFFF', u'id_str': u'32512440', u'profile_background_color': u'EDECE9', u'listed_count': 7, u'is_translation_enabled': False, u'utc_offset': -28800, u'statuses_count': 4877, u'description': u'Less is more.', u'friends_count': 141, u'location': u\"15\\xb028'50.9N 120\\xb035'14.6E\", u'profile_link_color': u'088253', u'profile_image_url': u'http://pbs.twimg.com/profile_images/642767312911642624/X3YOqZSA_normal.jpg', u'following': False, u'geo_enabled': True, u'profile_banner_url': u'https://pbs.twimg.com/profile_banners/32512440/1442098268', u'profile_background_image_url': u'http://pbs.twimg.com/profile_background_images/625437960/485edxxjsi2oinp9wfa9.jpeg', u'screen_name': u'marckyizms', u'lang': u'en', u'profile_background_tile': False, u'favourites_count': 453, u'name': u'Tristan Marc', u'notifications': False, u'url': u'https://t.co/GPOwsnEx7h', u'created_at': u'Fri Apr 17 18:31:18 +0000 2009', u'contributors_enabled': False, u'time_zone': u'Pacific Time (US & Canada)', u'protected': False, u'default_profile': False, u'is_translator': False}, u'geo': None, u'in_reply_to_user_id_str': None, u'possibly_sensitive': False, u'lang': u'en', u'created_at': u'Tue Nov 17 23:52:01 +0000 2015', u'in_reply_to_status_id_str': None, u'place': None, u'metadata': {u'iso_language_code': u'en', u'result_type': u'recent'}}, {u'contributors': None, u'truncated': False, u'text': u'RT @ele30006: Paris and her citizens have the WILL to be strong #PrayForParis #ParisAttacks #Paris #GreenLantern #art #Respect https://t.co\\u2026', u'is_quote_status': False, u'in_reply_to_status_id': None, u'id': 666765766218244096, u'favorite_count': 0, u'source': u'<a href=\"http://twitter.com\" rel=\"nofollow\">Twitter Web Client</a>', u'retweeted': False, u'coordinates': None, u'entities': {u'symbols': [], u'user_mentions': [{u'id': 63162103, u'indices': [3, 12], u'id_str': u'63162103', u'screen_name': u'ele30006', u'name': u'[electro belton]'}], u'hashtags': [{u'indices': [64, 77], u'text': u'PrayForParis'}, {u'indices': [78, 91], u'text': u'ParisAttacks'}, {u'indices': [92, 98], u'text': u'Paris'}, {u'indices': [99, 112], u'text': u'GreenLantern'}, {u'indices': [113, 117], u'text': u'art'}, {u'indices': [118, 126], u'text': u'Respect'}], u'urls': [], u'media': [{u'source_user_id': 63162103, u'source_status_id_str': u'665340337402040320', u'expanded_url': u'http://twitter.com/ele30006/status/665340337402040320/photo/1', u'display_url': u'pic.twitter.com/FB1KtBO8vK', u'url': u'https://t.co/FB1KtBO8vK', u'media_url_https': u'https://pbs.twimg.com/media/CTvDgtKUcAA-X1m.jpg', u'source_user_id_str': u'63162103', u'source_status_id': 665340337402040320, u'id_str': u'665340336613388288', u'sizes': {u'small': {u'h': 340, u'resize': u'fit', u'w': 340}, u'large': {u'h': 640, u'resize': u'fit', u'w': 640}, u'medium': {u'h': 600, u'resize': u'fit', u'w': 600}, u'thumb': {u'h': 150, u'resize': u'crop', u'w': 150}}, u'indices': [139, 140], u'type': u'photo', u'id': 665340336613388288, u'media_url': u'http://pbs.twimg.com/media/CTvDgtKUcAA-X1m.jpg'}]}, u'in_reply_to_screen_name': None, u'in_reply_to_user_id': None, u'retweet_count': 2, u'id_str': u'666765766218244096', u'favorited': False, u'retweeted_status': {u'contributors': None, u'truncated': False, u'text': u'Paris and her citizens have the WILL to be strong #PrayForParis #ParisAttacks #Paris #GreenLantern #art #Respect https://t.co/FB1KtBO8vK', u'is_quote_status': False, u'in_reply_to_status_id': None, u'id': 665340337402040320, u'favorite_count': 0, u'source': u'<a href=\"http://twitter.com\" rel=\"nofollow\">Twitter Web Client</a>', u'retweeted': False, u'coordinates': None, u'entities': {u'symbols': [], u'user_mentions': [], u'hashtags': [{u'indices': [50, 63], u'text': u'PrayForParis'}, {u'indices': [64, 77], u'text': u'ParisAttacks'}, {u'indices': [78, 84], u'text': u'Paris'}, {u'indices': [85, 98], u'text': u'GreenLantern'}, {u'indices': [99, 103], u'text': u'art'}, {u'indices': [104, 112], u'text': u'Respect'}], u'urls': [], u'media': [{u'expanded_url': u'http://twitter.com/ele30006/status/665340337402040320/photo/1', u'display_url': u'pic.twitter.com/FB1KtBO8vK', u'url': u'https://t.co/FB1KtBO8vK', u'media_url_https': u'https://pbs.twimg.com/media/CTvDgtKUcAA-X1m.jpg', u'id_str': u'665340336613388288', u'sizes': {u'small': {u'h': 340, u'resize': u'fit', u'w': 340}, u'large': {u'h': 640, u'resize': u'fit', u'w': 640}, u'medium': {u'h': 600, u'resize': u'fit', u'w': 600}, u'thumb': {u'h': 150, u'resize': u'crop', u'w': 150}}, u'indices': [113, 136], u'type': u'photo', u'id': 665340336613388288, u'media_url': u'http://pbs.twimg.com/media/CTvDgtKUcAA-X1m.jpg'}]}, u'in_reply_to_screen_name': None, u'in_reply_to_user_id': None, u'retweet_count': 2, u'id_str': u'665340337402040320', u'favorited': False, u'user': {u'follow_request_sent': False, u'has_extended_profile': False, u'profile_use_background_image': True, u'default_profile_image': False, u'id': 63162103, u'profile_background_image_url_https': u'https://pbs.twimg.com/profile_background_images/378800000163197958/cYTliUx9.jpeg', u'verified': False, u'profile_text_color': u'333333', u'profile_image_url_https': u'https://pbs.twimg.com/profile_images/650438022798807041/X9JTVUuh_normal.jpg', u'profile_sidebar_fill_color': u'A0C5C7', u'entities': {u'url': {u'urls': [{u'url': u'http://t.co/6ZCZUp1MOR', u'indices': [0, 22], u'expanded_url': u'http://instagram.com/ebwillpower1993', u'display_url': u'instagram.com/ebwillpower1993'}]}, u'description': {u'urls': []}}, u'followers_count': 451, u'profile_sidebar_border_color': u'FFFFFF', u'id_str': u'63162103', u'profile_background_color': u'C0DEED', u'listed_count': 7, u'is_translation_enabled': False, u'utc_offset': -18000, u'statuses_count': 9672, u'description': u\"I'm a _____ Nerd a) comics b) TV/Film c) Gaming d) Sports/Wrestling e) All of the Above #ProdigySuperhero since '93\", u'friends_count': 1996, u'location': u'Mogo', u'profile_link_color': u'94D487', u'profile_image_url': u'http://pbs.twimg.com/profile_images/650438022798807041/X9JTVUuh_normal.jpg', u'following': False, u'geo_enabled': True, u'profile_banner_url': u'https://pbs.twimg.com/profile_banners/63162103/1440374348', u'profile_background_image_url': u'http://pbs.twimg.com/profile_background_images/378800000163197958/cYTliUx9.jpeg', u'screen_name': u'ele30006', u'lang': u'en', u'profile_background_tile': True, u'favourites_count': 3115, u'name': u'[electro belton]', u'notifications': False, u'url': u'http://t.co/6ZCZUp1MOR', u'created_at': u'Wed Aug 05 15:27:31 +0000 2009', u'contributors_enabled': False, u'time_zone': u'Eastern Time (US & Canada)', u'protected': False, u'default_profile': False, u'is_translator': False}, u'geo': None, u'in_reply_to_user_id_str': None, u'possibly_sensitive': False, u'lang': u'en', u'created_at': u'Sat Nov 14 01:27:52 +0000 2015', u'in_reply_to_status_id_str': None, u'place': None, u'metadata': {u'iso_language_code': u'en', u'result_type': u'recent'}}, u'user': {u'follow_request_sent': False, u'has_extended_profile': False, u'profile_use_background_image': True, u'default_profile_image': False, u'id': 1548878755, u'profile_background_image_url_https': u'https://pbs.twimg.com/profile_background_images/433115966851915776/Om6nBsRM.png', u'verified': False, u'profile_text_color': u'333333', u'profile_image_url_https': u'https://pbs.twimg.com/profile_images/464863900341514241/XynzMXAf_normal.jpeg', u'profile_sidebar_fill_color': u'A0C5C7', u'entities': {u'url': {u'urls': [{u'url': u'http://t.co/mn7mOBG7Qi', u'indices': [0, 22], u'expanded_url': u'http://greenlantern.co', u'display_url': u'greenlantern.co'}]}, u'description': {u'urls': [{u'url': u'http://t.co/E993E4sP0L', u'indices': [137, 159], u'expanded_url': u'http://www.greenlantern.co', u'display_url': u'greenlantern.co'}]}}, u'followers_count': 68, u'profile_sidebar_border_color': u'000000', u'id_str': u'1548878755', u'profile_background_color': u'01A2E6', u'listed_count': 2, u'is_translation_enabled': False, u'utc_offset': -28800, u'statuses_count': 1459, u'description': u'Fan of Green Lantern John Stewart, Shayera Hol Hawkgirl, Katma Tui, Justice League/Justice League Unlimited in general, and Webmaster of http://t.co/E993E4sP0L', u'friends_count': 118, u'location': u'', u'profile_link_color': u'1B9410', u'profile_image_url': u'http://pbs.twimg.com/profile_images/464863900341514241/XynzMXAf_normal.jpeg', u'following': False, u'geo_enabled': False, u'profile_banner_url': u'https://pbs.twimg.com/profile_banners/1548878755/1399667106', u'profile_background_image_url': u'http://pbs.twimg.com/profile_background_images/433115966851915776/Om6nBsRM.png', u'screen_name': u'deshderringer', u'lang': u'en', u'profile_background_tile': False, u'favourites_count': 61, u'name': u'Desh', u'notifications': False, u'url': u'http://t.co/mn7mOBG7Qi', u'created_at': u'Wed Jun 26 18:48:59 +0000 2013', u'contributors_enabled': False, u'time_zone': u'Pacific Time (US & Canada)', u'protected': False, u'default_profile': False, u'is_translator': False}, u'geo': None, u'in_reply_to_user_id_str': None, u'possibly_sensitive': False, u'lang': u'en', u'created_at': u'Tue Nov 17 23:52:01 +0000 2015', u'in_reply_to_status_id_str': None, u'place': None, u'metadata': {u'iso_language_code': u'en', u'result_type': u'recent'}}]}\n"
     ]
    }
   ],
   "source": [
    "len(statuses)\n",
    "parsed = json.loads(statuses[0])\n",
    "print parsed"
   ]
  },
  {
   "cell_type": "code",
   "execution_count": 30,
   "metadata": {
    "collapsed": false
   },
   "outputs": [
    {
     "name": "stdout",
     "output_type": "stream",
     "text": [
      "RT @AFP: 'They have the weapons. Screw them, we have the champagne': Charlie Hebdo on #ParisAttacks https://t.co/QEKVpDwcgg https://t.co/eG…\n"
     ]
    }
   ],
   "source": [
    "print parsed['statuses'][0]['text']"
   ]
  },
  {
   "cell_type": "code",
   "execution_count": null,
   "metadata": {
    "collapsed": true
   },
   "outputs": [],
   "source": []
  }
 ],
 "metadata": {
  "kernelspec": {
   "display_name": "Python 2",
   "language": "python",
   "name": "python2"
  },
  "language_info": {
   "codemirror_mode": {
    "name": "ipython",
    "version": 2
   },
   "file_extension": ".py",
   "mimetype": "text/x-python",
   "name": "python",
   "nbconvert_exporter": "python",
   "pygments_lexer": "ipython2",
   "version": "2.7.10"
  }
 },
 "nbformat": 4,
 "nbformat_minor": 0
}
